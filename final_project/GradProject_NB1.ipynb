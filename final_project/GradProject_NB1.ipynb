{
 "cells": [
  {
   "cell_type": "markdown",
   "metadata": {},
   "source": [
    "<h1> DS200A Computer Vision Assignment</h1>"
   ]
  },
  {
   "cell_type": "markdown",
   "metadata": {},
   "source": [
    "<h2>  Part One: Data Input </h2>\t\n"
   ]
  },
  {
   "cell_type": "markdown",
   "metadata": {},
   "source": [
    "<h3>  Import Statements </h3>\t\n"
   ]
  },
  {
   "cell_type": "code",
   "execution_count": 17,
   "metadata": {},
   "outputs": [],
   "source": [
    "#Import anything you need here\n",
    "import numpy as np\n",
    "import matplotlib.pyplot as plt\n",
    "import pandas as pd\n",
    "import matplotlib\n",
    "import skimage\n",
    "from skimage import data\n",
    "from skimage import io\n",
    "import os\n",
    "import re"
   ]
  },
  {
   "cell_type": "code",
   "execution_count": null,
   "metadata": {},
   "outputs": [],
   "source": [
    "#Example of reading in a file\n",
    "\n",
    "\n",
    "filename = os.path.join(skimage.data_dir, 'd.jpg')\n",
    "dog = io.imread(filename)\n",
    "skimage.io.imshow(dog)\n",
    "\n",
    "plt.show()\n",
    "filename2 = os.path.join(skimage.data_dir, 'c.jpg')\n",
    "cat = io.imread(filename2)\n",
    "example_data_frame= pd.DataFrame()\n",
    "\n",
    "\n",
    "example_data_frame['Pictures']=[dog, cat]\n",
    "example_data_frame['Encoding']=[1,2]\n",
    "example_data_frame"
   ]
  },
  {
   "cell_type": "markdown",
   "metadata": {},
   "source": [
    "<h4> Using the code for reference, take the given folder and create a dataframe with the picture object, and the encoding as listed below. </h4>\t\n",
    "0=Airplanes, 1=Bear, 2=Blimp, 3=Comet, 4=Crab, 5=Dog, 6=Dolphin, 7=Giraffe, 8=Goat, 9=Gorilla, 10=Kangaroo, 11=Killer-Whale, 12=Leopards, 13=Llama, 14= Penguin, 15= Porcupine, 16=Teddy-Bear, 17=Triceratops, 18=Unicorn, 19=Zebra"
   ]
  },
  {
   "cell_type": "code",
   "execution_count": 18,
   "metadata": {},
   "outputs": [],
   "source": [
    "types=['airplanes', 'bear', 'blimp', 'comet', 'crab', 'dog', 'dolphin', 'giraffe', 'goat', 'gorilla', 'kangaroo', 'killer-whale', 'leopards', 'llama', 'penguin',\n",
    "       'porcupine', 'teddy-bear', 'triceratops', 'unicorn', 'zebra']"
   ]
  },
  {
   "cell_type": "code",
   "execution_count": 19,
   "metadata": {},
   "outputs": [],
   "source": [
    "def read_organize_data(file_path):\n",
    "    #Fill this function out, should return a dataframe with picture object, and correct encoding\n",
    "    \n",
    "    pics=[]\n",
    "    enc=[]\n",
    "    for i in range(0,len(types)):\n",
    "        typedir = os.path.join(file_path, types[i])\n",
    "        for file in os.listdir(typedir):\n",
    "            filename=os.path.join(typedir, file)\n",
    "            pics.append(io.imread(filename))\n",
    "            enc.append(i)\n",
    "    df=pd.DataFrame({\n",
    "        'Pictures': pics,\n",
    "        'Encoding': enc\n",
    "    })\n",
    "    \n",
    "    return df"
   ]
  },
  {
   "cell_type": "code",
   "execution_count": 20,
   "metadata": {},
   "outputs": [
    {
     "data": {
      "text/html": [
       "<div>\n",
       "<style scoped>\n",
       "    .dataframe tbody tr th:only-of-type {\n",
       "        vertical-align: middle;\n",
       "    }\n",
       "\n",
       "    .dataframe tbody tr th {\n",
       "        vertical-align: top;\n",
       "    }\n",
       "\n",
       "    .dataframe thead th {\n",
       "        text-align: right;\n",
       "    }\n",
       "</style>\n",
       "<table border=\"1\" class=\"dataframe\">\n",
       "  <thead>\n",
       "    <tr style=\"text-align: right;\">\n",
       "      <th></th>\n",
       "      <th>Pictures</th>\n",
       "      <th>Encoding</th>\n",
       "    </tr>\n",
       "  </thead>\n",
       "  <tbody>\n",
       "    <tr>\n",
       "      <td>0</td>\n",
       "      <td>[[[255, 255, 255], [255, 255, 255], [255, 255,...</td>\n",
       "      <td>0</td>\n",
       "    </tr>\n",
       "    <tr>\n",
       "      <td>1</td>\n",
       "      <td>[[[88, 56, 17], [95, 63, 24], [101, 69, 30], [...</td>\n",
       "      <td>0</td>\n",
       "    </tr>\n",
       "    <tr>\n",
       "      <td>2</td>\n",
       "      <td>[[[255, 255, 255], [255, 255, 255], [255, 255,...</td>\n",
       "      <td>0</td>\n",
       "    </tr>\n",
       "    <tr>\n",
       "      <td>3</td>\n",
       "      <td>[[[255, 255, 255], [255, 255, 255], [255, 255,...</td>\n",
       "      <td>0</td>\n",
       "    </tr>\n",
       "    <tr>\n",
       "      <td>4</td>\n",
       "      <td>[[[255, 255, 255], [255, 255, 255], [255, 255,...</td>\n",
       "      <td>0</td>\n",
       "    </tr>\n",
       "    <tr>\n",
       "      <td>...</td>\n",
       "      <td>...</td>\n",
       "      <td>...</td>\n",
       "    </tr>\n",
       "    <tr>\n",
       "      <td>1496</td>\n",
       "      <td>[[[113, 106, 90], [105, 104, 84], [110, 107, 8...</td>\n",
       "      <td>19</td>\n",
       "    </tr>\n",
       "    <tr>\n",
       "      <td>1497</td>\n",
       "      <td>[[[36, 37, 58], [22, 24, 45], [18, 23, 42], [1...</td>\n",
       "      <td>19</td>\n",
       "    </tr>\n",
       "    <tr>\n",
       "      <td>1498</td>\n",
       "      <td>[[[224, 218, 218], [216, 210, 210], [217, 213,...</td>\n",
       "      <td>19</td>\n",
       "    </tr>\n",
       "    <tr>\n",
       "      <td>1499</td>\n",
       "      <td>[[[132, 138, 90], [137, 143, 95], [148, 151, 1...</td>\n",
       "      <td>19</td>\n",
       "    </tr>\n",
       "    <tr>\n",
       "      <td>1500</td>\n",
       "      <td>[[[165, 185, 113], [155, 174, 110], [162, 179,...</td>\n",
       "      <td>19</td>\n",
       "    </tr>\n",
       "  </tbody>\n",
       "</table>\n",
       "<p>1501 rows × 2 columns</p>\n",
       "</div>"
      ],
      "text/plain": [
       "                                               Pictures  Encoding\n",
       "0     [[[255, 255, 255], [255, 255, 255], [255, 255,...         0\n",
       "1     [[[88, 56, 17], [95, 63, 24], [101, 69, 30], [...         0\n",
       "2     [[[255, 255, 255], [255, 255, 255], [255, 255,...         0\n",
       "3     [[[255, 255, 255], [255, 255, 255], [255, 255,...         0\n",
       "4     [[[255, 255, 255], [255, 255, 255], [255, 255,...         0\n",
       "...                                                 ...       ...\n",
       "1496  [[[113, 106, 90], [105, 104, 84], [110, 107, 8...        19\n",
       "1497  [[[36, 37, 58], [22, 24, 45], [18, 23, 42], [1...        19\n",
       "1498  [[[224, 218, 218], [216, 210, 210], [217, 213,...        19\n",
       "1499  [[[132, 138, 90], [137, 143, 95], [148, 151, 1...        19\n",
       "1500  [[[165, 185, 113], [155, 174, 110], [162, 179,...        19\n",
       "\n",
       "[1501 rows x 2 columns]"
      ]
     },
     "execution_count": 20,
     "metadata": {},
     "output_type": "execute_result"
    }
   ],
   "source": [
    "starting_data = read_organize_data(\"20_categories_training/20_categories_training\")\n",
    "starting_data"
   ]
  },
  {
   "cell_type": "code",
   "execution_count": 21,
   "metadata": {},
   "outputs": [
    {
     "data": {
      "text/html": [
       "<div>\n",
       "<style scoped>\n",
       "    .dataframe tbody tr th:only-of-type {\n",
       "        vertical-align: middle;\n",
       "    }\n",
       "\n",
       "    .dataframe tbody tr th {\n",
       "        vertical-align: top;\n",
       "    }\n",
       "\n",
       "    .dataframe thead th {\n",
       "        text-align: right;\n",
       "    }\n",
       "</style>\n",
       "<table border=\"1\" class=\"dataframe\">\n",
       "  <thead>\n",
       "    <tr style=\"text-align: right;\">\n",
       "      <th></th>\n",
       "      <th>Pictures</th>\n",
       "    </tr>\n",
       "    <tr>\n",
       "      <th>Id</th>\n",
       "      <th></th>\n",
       "    </tr>\n",
       "  </thead>\n",
       "  <tbody>\n",
       "    <tr>\n",
       "      <td>0</td>\n",
       "      <td>[[[80, 79, 74], [56, 55, 50], [54, 53, 48], [4...</td>\n",
       "    </tr>\n",
       "    <tr>\n",
       "      <td>1</td>\n",
       "      <td>[[[10, 15, 19], [10, 15, 19], [11, 16, 19], [1...</td>\n",
       "    </tr>\n",
       "    <tr>\n",
       "      <td>2</td>\n",
       "      <td>[[[232, 231, 247], [250, 249, 255], [235, 234,...</td>\n",
       "    </tr>\n",
       "    <tr>\n",
       "      <td>3</td>\n",
       "      <td>[[[97, 75, 77], [98, 76, 78], [99, 77, 79], [1...</td>\n",
       "    </tr>\n",
       "    <tr>\n",
       "      <td>4</td>\n",
       "      <td>[[[19, 46, 55], [19, 46, 53], [20, 47, 54], [2...</td>\n",
       "    </tr>\n",
       "    <tr>\n",
       "      <td>...</td>\n",
       "      <td>...</td>\n",
       "    </tr>\n",
       "    <tr>\n",
       "      <td>711</td>\n",
       "      <td>[[[64, 70, 84], [64, 70, 82], [65, 72, 82], [6...</td>\n",
       "    </tr>\n",
       "    <tr>\n",
       "      <td>712</td>\n",
       "      <td>[[[255, 255, 255], [255, 255, 255], [255, 255,...</td>\n",
       "    </tr>\n",
       "    <tr>\n",
       "      <td>713</td>\n",
       "      <td>[[[127, 178, 241], [124, 176, 236], [124, 176,...</td>\n",
       "    </tr>\n",
       "    <tr>\n",
       "      <td>714</td>\n",
       "      <td>[[[71, 97, 122], [70, 91, 118], [66, 86, 113],...</td>\n",
       "    </tr>\n",
       "    <tr>\n",
       "      <td>715</td>\n",
       "      <td>[[[14, 73, 105], [13, 72, 104], [21, 82, 111],...</td>\n",
       "    </tr>\n",
       "  </tbody>\n",
       "</table>\n",
       "<p>716 rows × 1 columns</p>\n",
       "</div>"
      ],
      "text/plain": [
       "                                              Pictures\n",
       "Id                                                    \n",
       "0    [[[80, 79, 74], [56, 55, 50], [54, 53, 48], [4...\n",
       "1    [[[10, 15, 19], [10, 15, 19], [11, 16, 19], [1...\n",
       "2    [[[232, 231, 247], [250, 249, 255], [235, 234,...\n",
       "3    [[[97, 75, 77], [98, 76, 78], [99, 77, 79], [1...\n",
       "4    [[[19, 46, 55], [19, 46, 53], [20, 47, 54], [2...\n",
       "..                                                 ...\n",
       "711  [[[64, 70, 84], [64, 70, 82], [65, 72, 82], [6...\n",
       "712  [[[255, 255, 255], [255, 255, 255], [255, 255,...\n",
       "713  [[[127, 178, 241], [124, 176, 236], [124, 176,...\n",
       "714  [[[71, 97, 122], [70, 91, 118], [66, 86, 113],...\n",
       "715  [[[14, 73, 105], [13, 72, 104], [21, 82, 111],...\n",
       "\n",
       "[716 rows x 1 columns]"
      ]
     },
     "execution_count": 21,
     "metadata": {},
     "output_type": "execute_result"
    }
   ],
   "source": [
    "pics= []\n",
    "ids= []\n",
    "typedir = \"20_Validation\"\n",
    "for file in os.listdir(typedir):\n",
    "    filename = os.path.join(typedir, file)\n",
    "    pics.append(io.imread(filename))\n",
    "    ids.append(int(re.findall(r'\\d+', filename)[1])-1)\n",
    "test_data = pd.DataFrame({ 'Pictures': pics, 'Id': ids}).sort_values(by='Id', ascending=True).set_index('Id')\n",
    "test_data"
   ]
  },
  {
   "cell_type": "code",
   "execution_count": 22,
   "metadata": {},
   "outputs": [],
   "source": [
    "starting_data.to_pickle('starting_data.pkl')"
   ]
  },
  {
   "cell_type": "code",
   "execution_count": 23,
   "metadata": {},
   "outputs": [],
   "source": [
    "test_data.to_pickle('test_data.pkl')"
   ]
  },
  {
   "cell_type": "code",
   "execution_count": null,
   "metadata": {},
   "outputs": [],
   "source": []
  }
 ],
 "metadata": {
  "kernelspec": {
   "display_name": "Python 3",
   "language": "python",
   "name": "python3"
  },
  "language_info": {
   "codemirror_mode": {
    "name": "ipython",
    "version": 3
   },
   "file_extension": ".py",
   "mimetype": "text/x-python",
   "name": "python",
   "nbconvert_exporter": "python",
   "pygments_lexer": "ipython3",
   "version": "3.7.3"
  }
 },
 "nbformat": 4,
 "nbformat_minor": 2
}
