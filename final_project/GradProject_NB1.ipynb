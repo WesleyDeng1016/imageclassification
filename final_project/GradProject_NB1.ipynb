{
 "cells": [
  {
   "cell_type": "markdown",
   "metadata": {},
   "source": [
    "<h1> DS200A Computer Vision Assignment</h1>"
   ]
  },
  {
   "cell_type": "markdown",
   "metadata": {},
   "source": [
    "<h2>  Part One: Data Input </h2>\t\n"
   ]
  },
  {
   "cell_type": "markdown",
   "metadata": {},
   "source": [
    "<h3>  Import Statements </h3>\t\n"
   ]
  },
  {
   "cell_type": "code",
   "execution_count": null,
   "metadata": {},
   "outputs": [],
   "source": [
    "#Import anything you need here\n",
    "import numpy as np\n",
    "import matplotlib.pyplot as plt\n",
    "import pandas as pd\n",
    "import matplotlib\n",
    "import skimage\n",
    "from skimage import data\n",
    "from skimage import io\n",
    "import os\n",
    "import re"
   ]
  },
  {
   "cell_type": "code",
   "execution_count": null,
   "metadata": {},
   "outputs": [],
   "source": [
    "#Example of reading in a file\n",
    "\n",
    "\n",
    "filename = os.path.join(skimage.data_dir, 'd.jpg')\n",
    "dog = io.imread(filename)\n",
    "skimage.io.imshow(dog)\n",
    "\n",
    "plt.show()\n",
    "filename2 = os.path.join(skimage.data_dir, 'c.jpg')\n",
    "cat = io.imread(filename2)\n",
    "example_data_frame= pd.DataFrame()\n",
    "\n",
    "\n",
    "example_data_frame['Pictures']=[dog, cat]\n",
    "example_data_frame['Encoding']=[1,2]\n",
    "example_data_frame"
   ]
  },
  {
   "cell_type": "markdown",
   "metadata": {},
   "source": [
    "<h4> Using the code for reference, take the given folder and create a dataframe with the picture object, and the encoding as listed below. </h4>\t\n",
    "0=Airplanes, 1=Bear, 2=Blimp, 3=Comet, 4=Crab, 5=Dog, 6=Dolphin, 7=Giraffe, 8=Goat, 9=Gorilla, 10=Kangaroo, 11=Killer-Whale, 12=Leopards, 13=Llama, 14= Penguin, 15= Porcupine, 16=Teddy-Bear, 17=Triceratops, 18=Unicorn, 19=Zebra"
   ]
  },
  {
   "cell_type": "code",
   "execution_count": null,
   "metadata": {},
   "outputs": [],
   "source": [
    "types=['airplanes', 'bear', 'blimp', 'comet', 'crab', 'dog', 'dolphin', 'giraffe', 'goat', 'gorilla', 'kangaroo', 'killer-whale', 'leopards', 'llama', 'penguin',\n",
    "       'porcupine', 'teddy-bear', 'triceratops', 'unicorn', 'zebra']"
   ]
  },
  {
   "cell_type": "code",
   "execution_count": null,
   "metadata": {},
   "outputs": [],
   "source": [
    "def read_organize_data(file_path):\n",
    "    #Fill this function out, should return a dataframe with picture object, and correct encoding\n",
    "    \n",
    "    pics=[]\n",
    "    enc=[]\n",
    "    for i in range(0,len(types)):\n",
    "        typedir = os.path.join(file_path, types[i])\n",
    "        for file in os.listdir(typedir):\n",
    "            filename=os.path.join(typedir, file)\n",
    "            pics.append(io.imread(filename))\n",
    "            enc.append(i)\n",
    "    df=pd.DataFrame({\n",
    "        'Pictures': pics,\n",
    "        'Encoding': enc\n",
    "    })\n",
    "    \n",
    "    return df"
   ]
  },
  {
   "cell_type": "code",
   "execution_count": null,
   "metadata": {},
   "outputs": [],
   "source": [
    "starting_data = read_organize_data(\"20_categories_training/20_categories_training\")\n",
    "starting_data"
   ]
  },
  {
   "cell_type": "code",
   "execution_count": null,
   "metadata": {},
   "outputs": [],
   "source": [
    "pics= []\n",
    "ids= []\n",
    "typedir = \"20_Validation\"\n",
    "for file in os.listdir(typedir):\n",
    "    filename = os.path.join(typedir, file)\n",
    "    pics.append(io.imread(filename))\n",
    "    ids.append(int(re.findall(r'\\d+', filename)[1]))\n",
    "test_data = pd.DataFrame({ 'Pictures': pics, 'Id': ids}).sort_values(by='Id', ascending=True).set_index('Id')\n",
    "test_data"
   ]
  },
  {
   "cell_type": "code",
   "execution_count": null,
   "metadata": {},
   "outputs": [],
   "source": [
    "starting_data.to_pickle('starting_data.pkl')"
   ]
  },
  {
   "cell_type": "code",
   "execution_count": null,
   "metadata": {},
   "outputs": [],
   "source": [
    "test_data.to_pickle('test_data.pkl')"
   ]
  }
 ],
 "metadata": {
  "kernelspec": {
   "display_name": "Python 3",
   "language": "python",
   "name": "python3"
  },
  "language_info": {
   "codemirror_mode": {
    "name": "ipython",
    "version": 3
   },
   "file_extension": ".py",
   "mimetype": "text/x-python",
   "name": "python",
   "nbconvert_exporter": "python",
   "pygments_lexer": "ipython3",
   "version": "3.6.9"
  }
 },
 "nbformat": 4,
 "nbformat_minor": 2
}
