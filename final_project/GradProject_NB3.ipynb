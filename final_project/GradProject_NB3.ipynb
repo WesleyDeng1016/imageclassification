{
 "cells": [
  {
   "cell_type": "markdown",
   "metadata": {},
   "source": [
    "\n",
    "<h1> DS200A Computer Vision Assignment</h1>"
   ]
  },
  {
   "cell_type": "markdown",
   "metadata": {},
   "source": [
    "<h2>  Part Three: Classifier training and performance assessment. </h2>\t"
   ]
  },
  {
   "cell_type": "code",
   "execution_count": 5,
   "metadata": {},
   "outputs": [],
   "source": [
    "import warnings\n",
    "warnings.filterwarnings(\"ignore\")"
   ]
  },
  {
   "cell_type": "code",
   "execution_count": 1,
   "metadata": {},
   "outputs": [],
   "source": [
    "import numpy as np\n",
    "import pandas as pd\n",
    "import pickle\n",
    "from sklearn.model_selection import train_test_split as sksplit\n",
    "from sklearn.model_selection import RandomizedSearchCV\n",
    "from sklearn.model_selection import cross_val_score\n",
    "from sklearn.feature_selection import RFECV\n",
    "import matplotlib.pyplot as plt"
   ]
  },
  {
   "cell_type": "code",
   "execution_count": 2,
   "metadata": {},
   "outputs": [],
   "source": [
    "def train_test_split(df):\n",
    "    return sksplit(df, test_size=0.2, random_state=42)\n",
    "#Split the data into a training set, and test set \n",
    "def accuracy(pred, actual):\n",
    "    return np.sum(np.equal(pred, actual))/len(pred)\n",
    "# Calculate the accuracy percentage of the predicted values"
   ]
  },
  {
   "cell_type": "code",
   "execution_count": 3,
   "metadata": {},
   "outputs": [],
   "source": [
    "# data = pd.read_pickle('transformed_data.pkl')\n",
    "# X, y=data.iloc[:, :-1], data.iloc[:, -1]\n",
    "# train, val = train_test_split(data)\n",
    "# X_train, Y_train = train.iloc[:, :-1], train.iloc[:, -1]\n",
    "# X_val, Y_val = val.iloc[:, :-1], val.iloc[:, -1]"
   ]
  },
  {
   "cell_type": "code",
   "execution_count": 75,
   "metadata": {},
   "outputs": [],
   "source": [
    "X = pd.read_pickle('transformed_data.pkl')\n",
    "y = pd.read_pickle('transformed_y.pkl')\n",
    "X_train, X_val = train_test_split(X)\n",
    "Y_train = y[X_train.index]\n",
    "Y_val = y[X_val.index]"
   ]
  },
  {
   "cell_type": "markdown",
   "metadata": {},
   "source": [
    "<h3>  Train models using all of the following methods below. Be sure to drop the actual image column, and the encoding</h3>\tTake note of the differences in accuracy, and methods.\n"
   ]
  },
  {
   "cell_type": "markdown",
   "metadata": {},
   "source": [
    "## Logistic Regression"
   ]
  },
  {
   "cell_type": "code",
   "execution_count": 53,
   "metadata": {},
   "outputs": [],
   "source": [
    "from sklearn.linear_model import LogisticRegression"
   ]
  },
  {
   "cell_type": "code",
   "execution_count": 77,
   "metadata": {},
   "outputs": [
    {
     "name": "stdout",
     "output_type": "stream",
     "text": [
      "0.40439932318104904 0.4155405405405405\n"
     ]
    }
   ],
   "source": [
    "log_model = LogisticRegression(multi_class='ovr', penalty='l1', C=1.0).fit(X_train, Y_train)\n",
    "training_accuracy = accuracy(log_model.predict(X_train), Y_train)\n",
    "val_accuracy = accuracy(log_model.predict(X_val), Y_val)\n",
    "print(training_accuracy, val_accuracy)"
   ]
  },
  {
   "cell_type": "code",
   "execution_count": 79,
   "metadata": {},
   "outputs": [],
   "source": [
    "log_model = LogisticRegression(multi_class='ovr', penalty='l1', C=1)\n",
    "selector = RFECV(log_model, step=1, cv=5).fit(X, y)\n",
    "rank=selector.ranking_"
   ]
  },
  {
   "cell_type": "code",
   "execution_count": 80,
   "metadata": {},
   "outputs": [],
   "source": [
    "pens=np.linspace(0.1,5.1,20)\n",
    "fets=range(1, max(rank)+1)\n",
    "val_acc=[[0 for i in range(0, len(pens))] for j in range(0, len(fets))]\n",
    "\n",
    "for i in range(0,len(fets)):\n",
    "    n=fets[i]\n",
    "    X_r=X[X.columns[rank<=n]]\n",
    "    for j in range(0,len(pens)):\n",
    "        log_model = LogisticRegression(multi_class='ovr', penalty='l1', C=pens[j])\n",
    "\n",
    "        val_acc[i][j] = np.mean(cross_val_score(log_model, X_r, y, cv=5))"
   ]
  },
  {
   "cell_type": "code",
   "execution_count": 81,
   "metadata": {},
   "outputs": [
    {
     "data": {
      "text/plain": [
       "0.3741267450053647"
      ]
     },
     "execution_count": 81,
     "metadata": {},
     "output_type": "execute_result"
    }
   ],
   "source": [
    "val_mat=np.matrix(val_acc)\n",
    "a,b=np.unravel_index(val_mat.argmax(), val_mat.shape)\n",
    "val_mat[a,b]"
   ]
  },
  {
   "cell_type": "code",
   "execution_count": 82,
   "metadata": {},
   "outputs": [],
   "source": [
    "n_opt=fets[a]\n",
    "log_pen=pens[b]"
   ]
  },
  {
   "cell_type": "code",
   "execution_count": 83,
   "metadata": {},
   "outputs": [
    {
     "data": {
      "image/png": "[encoded data removed]",
      "text/plain": [
       "<Figure size 576x360 with 1 Axes>"
      ]
     },
     "metadata": {
      "needs_background": "light"
     },
     "output_type": "display_data"
    }
   ],
   "source": [
    "plt.figure(figsize=(8,5))\n",
    "for i in range(0,len(fets)):\n",
    "    n=fets[i]\n",
    "    plt.plot(pens, val_acc[i], label='validation accuracy with features of top ranked '+str(n))\n",
    "plt.scatter(pens[b], val_mat[a,b], color='r')\n",
    "plt.legend();"
   ]
  },
  {
   "cell_type": "code",
   "execution_count": 84,
   "metadata": {},
   "outputs": [
    {
     "name": "stdout",
     "output_type": "stream",
     "text": [
      "0.41116751269035534 0.39864864864864863\n"
     ]
    }
   ],
   "source": [
    "columns=X.columns[rank<=n_opt]\n",
    "X_train_log=X_train[columns]\n",
    "X_val_log=X_val[columns]\n",
    "\n",
    "log_model = LogisticRegression(multi_class='ovr', penalty='l1', C=log_pen).fit(X_train_log, Y_train)\n",
    "\n",
    "training_accuracy = accuracy(log_model.predict(X_train_log), Y_train)\n",
    "val_accuracy = accuracy(log_model.predict(X_val_log), Y_val)\n",
    "print(training_accuracy, val_accuracy)"
   ]
  },
  {
   "cell_type": "markdown",
   "metadata": {},
   "source": [
    "Based on the result of EDA, next we will train logistic classifier on two types of samples, one has image size lower than 300000, and the other has image size larger or equal to 300000, and see if it can provide us a better result."
   ]
  },
  {
   "cell_type": "code",
   "execution_count": 85,
   "metadata": {},
   "outputs": [
    {
     "name": "stdout",
     "output_type": "stream",
     "text": [
      "0.50625 0.4880952380952381\n",
      "0.35793357933579334 0.3515625\n",
      "average validation error:\n",
      "0.4254888556522439\n"
     ]
    }
   ],
   "source": [
    "log_model_small = LogisticRegression(multi_class='ovr', penalty='l1', C=log_pen)\n",
    "log_model_large = LogisticRegression(multi_class='ovr', penalty='l1', C=log_pen)\n",
    "errors = []\n",
    "\n",
    "X_train_small=X_train_log[X_train_log['size']<300000]\n",
    "Y_train_small=Y_train[X_train_log['size']<300000]\n",
    "X_val_small=X_val_log[X_val_log['size']<300000]\n",
    "Y_val_small=Y_val[X_val_log['size']<300000]\n",
    "\n",
    "X_train_large=X_train_log[X_train_log['size']>=300000]\n",
    "Y_train_large=Y_train[X_train_log['size']>=300000]\n",
    "X_val_large=X_val_log[X_val_log['size']>=300000]\n",
    "Y_val_large=Y_val[X_val_log['size']>=300000]\n",
    "\n",
    "\n",
    "training_accuracy_small = accuracy(log_model_small.fit(X_train_small, Y_train_small).predict(X_train_small), Y_train_small)\n",
    "val_accuracy_small = accuracy(log_model_small.predict(X_val_small), Y_val_small)\n",
    "print(training_accuracy_small, val_accuracy_small)\n",
    "\n",
    "training_accuracy_large = accuracy(log_model_large.fit(X_train_large, Y_train_large).predict(X_train_large), Y_train_large)\n",
    "val_accuracy_large = accuracy(log_model_large.predict(X_val_large), Y_val_large)\n",
    "print(training_accuracy_large, val_accuracy_large)\n",
    "\n",
    "print(\"average validation error:\")\n",
    "print((val_accuracy_small*len(X_train_small)+val_accuracy_large*len(X_train_large))/len(X_train_log))"
   ]
  },
  {
   "cell_type": "markdown",
   "metadata": {},
   "source": [
    "## K-nearest Neighbors"
   ]
  },
  {
   "cell_type": "code",
   "execution_count": 86,
   "metadata": {},
   "outputs": [],
   "source": [
    "from sklearn.neighbors import KNeighborsClassifier"
   ]
  },
  {
   "cell_type": "code",
   "execution_count": 87,
   "metadata": {},
   "outputs": [
    {
     "name": "stdout",
     "output_type": "stream",
     "text": [
      "0.2817258883248731\n"
     ]
    }
   ],
   "source": [
    "n_neighbors = 15\n",
    "knn_model = KNeighborsClassifier(n_neighbors=n_neighbors).fit(X_train, Y_train)\n",
    "training_accuracy = accuracy(knn_model.predict(X_train), Y_train)\n",
    "print(training_accuracy)"
   ]
  },
  {
   "cell_type": "code",
   "execution_count": 88,
   "metadata": {},
   "outputs": [
    {
     "name": "stdout",
     "output_type": "stream",
     "text": [
      "0.20270270270270271\n"
     ]
    }
   ],
   "source": [
    "val_accuracy = accuracy(knn_model.predict(X_val), Y_val)\n",
    "print(val_accuracy)"
   ]
  },
  {
   "cell_type": "markdown",
   "metadata": {},
   "source": [
    "## Classification Tree"
   ]
  },
  {
   "cell_type": "code",
   "execution_count": 89,
   "metadata": {},
   "outputs": [
    {
     "name": "stdout",
     "output_type": "stream",
     "text": [
      "1.0\n"
     ]
    }
   ],
   "source": [
    "from sklearn.tree import DecisionTreeClassifier\n",
    "dtree_model = DecisionTreeClassifier(max_depth=None).fit(X_train, Y_train)\n",
    "training_accuracy = accuracy(dtree_model.predict(X_train), Y_train)\n",
    "print(training_accuracy)"
   ]
  },
  {
   "cell_type": "code",
   "execution_count": 90,
   "metadata": {},
   "outputs": [
    {
     "name": "stdout",
     "output_type": "stream",
     "text": [
      "0.31756756756756754\n"
     ]
    }
   ],
   "source": [
    "val_accuracy = accuracy(dtree_model.predict(X_val), Y_val)\n",
    "print(val_accuracy)"
   ]
  },
  {
   "cell_type": "markdown",
   "metadata": {},
   "source": [
    "## Random Forest"
   ]
  },
  {
   "cell_type": "code",
   "execution_count": 91,
   "metadata": {},
   "outputs": [],
   "source": [
    "from sklearn.ensemble import RandomForestClassifier"
   ]
  },
  {
   "cell_type": "code",
   "execution_count": 92,
   "metadata": {},
   "outputs": [],
   "source": [
    "forest_model = RandomForestClassifier(n_estimators=100, \n",
    "                                    bootstrap = True, \n",
    "                                    max_features = 'sqrt', \n",
    "                                    max_depth=None)\n",
    "selector = RFECV(forest_model, step=1, cv=5).fit(X_r, y)\n",
    "rank=selector.ranking_"
   ]
  },
  {
   "cell_type": "code",
   "execution_count": 93,
   "metadata": {},
   "outputs": [],
   "source": [
    "val_acc=[]\n",
    "deps=range(1,25)\n",
    "fets=range(1, max(rank)+1)\n",
    "val_acc=[[0 for i in range(0, len(deps))] for j in range(0, len(fets))]\n",
    "\n",
    "for i in range(0,len(fets)):\n",
    "    n=fets[i]\n",
    "    X_r=X[X.columns[rank<=n]]\n",
    "    for j in range(0,len(deps)):\n",
    "        forest_model = RandomForestClassifier(n_estimators=100, \n",
    "                                                      bootstrap = True, \n",
    "                                                      max_features = 'sqrt', \n",
    "                                                      max_depth=deps[j])\n",
    "\n",
    "        val_acc[i][j] = np.mean(cross_val_score(forest_model, X_r, y, cv=5))"
   ]
  },
  {
   "cell_type": "code",
   "execution_count": 99,
   "metadata": {},
   "outputs": [
    {
     "data": {
      "text/plain": [
       "0.3672499599385973"
      ]
     },
     "execution_count": 99,
     "metadata": {},
     "output_type": "execute_result"
    }
   ],
   "source": [
    "val_mat = np.matrix(val_acc)\n",
    "a,b=np.unravel_index(val_mat.argmax(), val_mat.shape)\n",
    "val_mat[a,b]"
   ]
  },
  {
   "cell_type": "code",
   "execution_count": 100,
   "metadata": {},
   "outputs": [],
   "source": [
    "n_opt=fets[a]\n",
    "rf_dep=deps[b]"
   ]
  },
  {
   "cell_type": "code",
   "execution_count": 101,
   "metadata": {},
   "outputs": [
    {
     "data": {
      "image/png": "[encoded data removed]",
      "text/plain": [
       "<Figure size 576x360 with 1 Axes>"
      ]
     },
     "metadata": {
      "needs_background": "light"
     },
     "output_type": "display_data"
    }
   ],
   "source": [
    "plt.figure(figsize=(8,5))\n",
    "#plt.plot(deps, train_acc, label='train accuracy')\n",
    "for i in range(0,len(fets)):\n",
    "    n=fets[i]\n",
    "    plt.plot(deps, val_acc[i], label='validation accuracy with features of top ranked '+str(n))\n",
    "plt.scatter(rf_dep, val_mat[a,b], color='r')\n",
    "plt.xticks(deps)\n",
    "plt.legend();"
   ]
  },
  {
   "cell_type": "code",
   "execution_count": 102,
   "metadata": {},
   "outputs": [
    {
     "name": "stdout",
     "output_type": "stream",
     "text": [
      "0.7681895093062606 0.38513513513513514\n"
     ]
    }
   ],
   "source": [
    "columns=X.columns[rank<=n_opt]\n",
    "X_train_rf=X_train[columns]\n",
    "X_val_rf=X_val[columns]\n",
    "\n",
    "forest_model = RandomForestClassifier(n_estimators=100, \n",
    "                                      bootstrap = True, \n",
    "                                      max_features = 'sqrt', \n",
    "                                      max_depth=rf_dep).fit(X_train_rf, Y_train)\n",
    "training_accuracy = accuracy(forest_model.predict(X_train_rf), Y_train)\n",
    "val_accuracy = accuracy(forest_model.predict(X_val_rf), Y_val)\n",
    "print(training_accuracy, val_accuracy)"
   ]
  },
  {
   "cell_type": "markdown",
   "metadata": {},
   "source": [
    "## Support Vector Machine"
   ]
  },
  {
   "cell_type": "code",
   "execution_count": null,
   "metadata": {},
   "outputs": [],
   "source": [
    "from sklearn.svm import SVC\n",
    "svc_model = SVC(C=1.0, tol=1e-3, kernel='linear').fit(X_train, Y_train)\n",
    "training_accuracy = accuracy(svc_model.predict(X_train), Y_train)\n",
    "print(training_accuracy)"
   ]
  },
  {
   "cell_type": "code",
   "execution_count": null,
   "metadata": {},
   "outputs": [],
   "source": [
    "val_accuracy = accuracy(svc_model.predict(X_val), Y_val)\n",
    "print(val_accuracy)"
   ]
  },
  {
   "cell_type": "markdown",
   "metadata": {},
   "source": [
    "## Test on test data"
   ]
  },
  {
   "cell_type": "code",
   "execution_count": 20,
   "metadata": {},
   "outputs": [],
   "source": [
    "test_data=pd.read_pickle(\"transformed_data_test.pkl\")\n",
    "X_test=test_data"
   ]
  },
  {
   "cell_type": "code",
   "execution_count": 21,
   "metadata": {},
   "outputs": [
    {
     "data": {
      "text/html": [
       "<div>\n",
       "<style scoped>\n",
       "    .dataframe tbody tr th:only-of-type {\n",
       "        vertical-align: middle;\n",
       "    }\n",
       "\n",
       "    .dataframe tbody tr th {\n",
       "        vertical-align: top;\n",
       "    }\n",
       "\n",
       "    .dataframe thead th {\n",
       "        text-align: right;\n",
       "    }\n",
       "</style>\n",
       "<table border=\"1\" class=\"dataframe\">\n",
       "  <thead>\n",
       "    <tr style=\"text-align: right;\">\n",
       "      <th></th>\n",
       "      <th>size</th>\n",
       "      <th>red_avg</th>\n",
       "      <th>aspectratio</th>\n",
       "      <th>green_avg</th>\n",
       "      <th>blue_avg</th>\n",
       "      <th>red_std</th>\n",
       "      <th>green_std</th>\n",
       "      <th>blue_std</th>\n",
       "      <th>grey_std</th>\n",
       "      <th>colorful</th>\n",
       "      <th>num_blob</th>\n",
       "      <th>red_rank</th>\n",
       "      <th>green_rank</th>\n",
       "      <th>blue_rank</th>\n",
       "    </tr>\n",
       "  </thead>\n",
       "  <tbody>\n",
       "    <tr>\n",
       "      <td>0</td>\n",
       "      <td>507000</td>\n",
       "      <td>70.508734</td>\n",
       "      <td>0.676000</td>\n",
       "      <td>63.289556</td>\n",
       "      <td>65.214751</td>\n",
       "      <td>56.791829</td>\n",
       "      <td>53.915260</td>\n",
       "      <td>57.074030</td>\n",
       "      <td>0.213765</td>\n",
       "      <td>155.684812</td>\n",
       "      <td>14</td>\n",
       "      <td>1.0</td>\n",
       "      <td>1.0</td>\n",
       "      <td>1.0</td>\n",
       "    </tr>\n",
       "    <tr>\n",
       "      <td>1</td>\n",
       "      <td>223200</td>\n",
       "      <td>124.359530</td>\n",
       "      <td>0.826667</td>\n",
       "      <td>134.697204</td>\n",
       "      <td>108.073038</td>\n",
       "      <td>84.705840</td>\n",
       "      <td>77.447086</td>\n",
       "      <td>96.216679</td>\n",
       "      <td>0.314145</td>\n",
       "      <td>164.427035</td>\n",
       "      <td>22</td>\n",
       "      <td>1.0</td>\n",
       "      <td>1.0</td>\n",
       "      <td>1.0</td>\n",
       "    </tr>\n",
       "    <tr>\n",
       "      <td>2</td>\n",
       "      <td>73728</td>\n",
       "      <td>58.800537</td>\n",
       "      <td>0.666667</td>\n",
       "      <td>69.743937</td>\n",
       "      <td>42.474202</td>\n",
       "      <td>47.266444</td>\n",
       "      <td>44.962830</td>\n",
       "      <td>37.315937</td>\n",
       "      <td>0.174315</td>\n",
       "      <td>113.927675</td>\n",
       "      <td>5</td>\n",
       "      <td>1.0</td>\n",
       "      <td>1.0</td>\n",
       "      <td>1.0</td>\n",
       "    </tr>\n",
       "    <tr>\n",
       "      <td>3</td>\n",
       "      <td>1102500</td>\n",
       "      <td>128.797793</td>\n",
       "      <td>0.750000</td>\n",
       "      <td>153.414112</td>\n",
       "      <td>97.354952</td>\n",
       "      <td>56.261125</td>\n",
       "      <td>59.727992</td>\n",
       "      <td>47.261959</td>\n",
       "      <td>0.225246</td>\n",
       "      <td>142.847149</td>\n",
       "      <td>8</td>\n",
       "      <td>1.0</td>\n",
       "      <td>1.0</td>\n",
       "      <td>1.0</td>\n",
       "    </tr>\n",
       "    <tr>\n",
       "      <td>4</td>\n",
       "      <td>5760000</td>\n",
       "      <td>133.162397</td>\n",
       "      <td>0.750000</td>\n",
       "      <td>129.523607</td>\n",
       "      <td>94.031123</td>\n",
       "      <td>48.779898</td>\n",
       "      <td>47.980598</td>\n",
       "      <td>43.452130</td>\n",
       "      <td>0.185778</td>\n",
       "      <td>150.588902</td>\n",
       "      <td>12</td>\n",
       "      <td>1.0</td>\n",
       "      <td>1.0</td>\n",
       "      <td>1.0</td>\n",
       "    </tr>\n",
       "    <tr>\n",
       "      <td>...</td>\n",
       "      <td>...</td>\n",
       "      <td>...</td>\n",
       "      <td>...</td>\n",
       "      <td>...</td>\n",
       "      <td>...</td>\n",
       "      <td>...</td>\n",
       "      <td>...</td>\n",
       "      <td>...</td>\n",
       "      <td>...</td>\n",
       "      <td>...</td>\n",
       "      <td>...</td>\n",
       "      <td>...</td>\n",
       "      <td>...</td>\n",
       "      <td>...</td>\n",
       "    </tr>\n",
       "    <tr>\n",
       "      <td>711</td>\n",
       "      <td>263520</td>\n",
       "      <td>199.440118</td>\n",
       "      <td>1.059028</td>\n",
       "      <td>164.020628</td>\n",
       "      <td>178.365585</td>\n",
       "      <td>32.786932</td>\n",
       "      <td>79.460708</td>\n",
       "      <td>65.996425</td>\n",
       "      <td>0.258468</td>\n",
       "      <td>127.721004</td>\n",
       "      <td>8</td>\n",
       "      <td>1.0</td>\n",
       "      <td>1.0</td>\n",
       "      <td>1.0</td>\n",
       "    </tr>\n",
       "    <tr>\n",
       "      <td>712</td>\n",
       "      <td>199800</td>\n",
       "      <td>116.019985</td>\n",
       "      <td>1.351351</td>\n",
       "      <td>105.710195</td>\n",
       "      <td>104.851502</td>\n",
       "      <td>42.032216</td>\n",
       "      <td>43.650580</td>\n",
       "      <td>39.091925</td>\n",
       "      <td>0.167603</td>\n",
       "      <td>175.745496</td>\n",
       "      <td>2</td>\n",
       "      <td>1.0</td>\n",
       "      <td>1.0</td>\n",
       "      <td>1.0</td>\n",
       "    </tr>\n",
       "    <tr>\n",
       "      <td>713</td>\n",
       "      <td>1440000</td>\n",
       "      <td>165.961108</td>\n",
       "      <td>0.750000</td>\n",
       "      <td>178.490210</td>\n",
       "      <td>170.573794</td>\n",
       "      <td>49.042359</td>\n",
       "      <td>46.339547</td>\n",
       "      <td>50.077490</td>\n",
       "      <td>0.183618</td>\n",
       "      <td>177.522457</td>\n",
       "      <td>9</td>\n",
       "      <td>1.0</td>\n",
       "      <td>1.0</td>\n",
       "      <td>1.0</td>\n",
       "    </tr>\n",
       "    <tr>\n",
       "      <td>714</td>\n",
       "      <td>196500</td>\n",
       "      <td>179.315344</td>\n",
       "      <td>0.954198</td>\n",
       "      <td>155.455771</td>\n",
       "      <td>153.397573</td>\n",
       "      <td>67.707030</td>\n",
       "      <td>74.674374</td>\n",
       "      <td>75.776697</td>\n",
       "      <td>0.286104</td>\n",
       "      <td>180.142655</td>\n",
       "      <td>9</td>\n",
       "      <td>1.0</td>\n",
       "      <td>1.0</td>\n",
       "      <td>1.0</td>\n",
       "    </tr>\n",
       "    <tr>\n",
       "      <td>715</td>\n",
       "      <td>174762</td>\n",
       "      <td>150.518351</td>\n",
       "      <td>0.365915</td>\n",
       "      <td>157.746095</td>\n",
       "      <td>149.634326</td>\n",
       "      <td>62.682495</td>\n",
       "      <td>64.780658</td>\n",
       "      <td>72.635790</td>\n",
       "      <td>0.251862</td>\n",
       "      <td>175.601179</td>\n",
       "      <td>7</td>\n",
       "      <td>1.0</td>\n",
       "      <td>1.0</td>\n",
       "      <td>1.0</td>\n",
       "    </tr>\n",
       "  </tbody>\n",
       "</table>\n",
       "<p>716 rows × 14 columns</p>\n",
       "</div>"
      ],
      "text/plain": [
       "        size     red_avg  aspectratio   green_avg    blue_avg    red_std  \\\n",
       "0     507000   70.508734     0.676000   63.289556   65.214751  56.791829   \n",
       "1     223200  124.359530     0.826667  134.697204  108.073038  84.705840   \n",
       "2      73728   58.800537     0.666667   69.743937   42.474202  47.266444   \n",
       "3    1102500  128.797793     0.750000  153.414112   97.354952  56.261125   \n",
       "4    5760000  133.162397     0.750000  129.523607   94.031123  48.779898   \n",
       "..       ...         ...          ...         ...         ...        ...   \n",
       "711   263520  199.440118     1.059028  164.020628  178.365585  32.786932   \n",
       "712   199800  116.019985     1.351351  105.710195  104.851502  42.032216   \n",
       "713  1440000  165.961108     0.750000  178.490210  170.573794  49.042359   \n",
       "714   196500  179.315344     0.954198  155.455771  153.397573  67.707030   \n",
       "715   174762  150.518351     0.365915  157.746095  149.634326  62.682495   \n",
       "\n",
       "     green_std   blue_std  grey_std    colorful  num_blob  red_rank  \\\n",
       "0    53.915260  57.074030  0.213765  155.684812        14       1.0   \n",
       "1    77.447086  96.216679  0.314145  164.427035        22       1.0   \n",
       "2    44.962830  37.315937  0.174315  113.927675         5       1.0   \n",
       "3    59.727992  47.261959  0.225246  142.847149         8       1.0   \n",
       "4    47.980598  43.452130  0.185778  150.588902        12       1.0   \n",
       "..         ...        ...       ...         ...       ...       ...   \n",
       "711  79.460708  65.996425  0.258468  127.721004         8       1.0   \n",
       "712  43.650580  39.091925  0.167603  175.745496         2       1.0   \n",
       "713  46.339547  50.077490  0.183618  177.522457         9       1.0   \n",
       "714  74.674374  75.776697  0.286104  180.142655         9       1.0   \n",
       "715  64.780658  72.635790  0.251862  175.601179         7       1.0   \n",
       "\n",
       "     green_rank  blue_rank  \n",
       "0           1.0        1.0  \n",
       "1           1.0        1.0  \n",
       "2           1.0        1.0  \n",
       "3           1.0        1.0  \n",
       "4           1.0        1.0  \n",
       "..          ...        ...  \n",
       "711         1.0        1.0  \n",
       "712         1.0        1.0  \n",
       "713         1.0        1.0  \n",
       "714         1.0        1.0  \n",
       "715         1.0        1.0  \n",
       "\n",
       "[716 rows x 14 columns]"
      ]
     },
     "execution_count": 21,
     "metadata": {},
     "output_type": "execute_result"
    }
   ],
   "source": [
    "X_test"
   ]
  },
  {
   "cell_type": "code",
   "execution_count": 23,
   "metadata": {},
   "outputs": [],
   "source": [
    "columns=X_test.columns[rank<=n_opt]\n",
    "X_test_log=X_test[columns]\n",
    "\n",
    "X_test_small=X_test_log[X_test_log['size']<300000]\n",
    "#Y_test_small=Y_test[X_test_log['size']<300000]\n",
    "\n",
    "X_test_large=X_test_log[X_test_log['size']>=300000]\n",
    "#Y_test_large=Y_test[X_test_log['size']>=300000]"
   ]
  },
  {
   "cell_type": "code",
   "execution_count": 25,
   "metadata": {},
   "outputs": [
    {
     "data": {
      "text/html": [
       "<div>\n",
       "<style scoped>\n",
       "    .dataframe tbody tr th:only-of-type {\n",
       "        vertical-align: middle;\n",
       "    }\n",
       "\n",
       "    .dataframe tbody tr th {\n",
       "        vertical-align: top;\n",
       "    }\n",
       "\n",
       "    .dataframe thead th {\n",
       "        text-align: right;\n",
       "    }\n",
       "</style>\n",
       "<table border=\"1\" class=\"dataframe\">\n",
       "  <thead>\n",
       "    <tr style=\"text-align: right;\">\n",
       "      <th></th>\n",
       "      <th>size</th>\n",
       "      <th>red_avg</th>\n",
       "      <th>aspectratio</th>\n",
       "      <th>green_avg</th>\n",
       "      <th>blue_avg</th>\n",
       "      <th>red_std</th>\n",
       "      <th>green_std</th>\n",
       "      <th>blue_std</th>\n",
       "      <th>grey_std</th>\n",
       "      <th>colorful</th>\n",
       "      <th>num_blob</th>\n",
       "      <th>red_rank</th>\n",
       "      <th>green_rank</th>\n",
       "      <th>blue_rank</th>\n",
       "    </tr>\n",
       "  </thead>\n",
       "  <tbody>\n",
       "    <tr>\n",
       "      <td>0</td>\n",
       "      <td>507000</td>\n",
       "      <td>70.508734</td>\n",
       "      <td>0.676000</td>\n",
       "      <td>63.289556</td>\n",
       "      <td>65.214751</td>\n",
       "      <td>56.791829</td>\n",
       "      <td>53.915260</td>\n",
       "      <td>57.074030</td>\n",
       "      <td>0.213765</td>\n",
       "      <td>155.684812</td>\n",
       "      <td>14</td>\n",
       "      <td>1.000000</td>\n",
       "      <td>1.000000</td>\n",
       "      <td>1.000000</td>\n",
       "    </tr>\n",
       "    <tr>\n",
       "      <td>3</td>\n",
       "      <td>1102500</td>\n",
       "      <td>128.797793</td>\n",
       "      <td>0.750000</td>\n",
       "      <td>153.414112</td>\n",
       "      <td>97.354952</td>\n",
       "      <td>56.261125</td>\n",
       "      <td>59.727992</td>\n",
       "      <td>47.261959</td>\n",
       "      <td>0.225246</td>\n",
       "      <td>142.847149</td>\n",
       "      <td>8</td>\n",
       "      <td>1.000000</td>\n",
       "      <td>1.000000</td>\n",
       "      <td>1.000000</td>\n",
       "    </tr>\n",
       "    <tr>\n",
       "      <td>4</td>\n",
       "      <td>5760000</td>\n",
       "      <td>133.162397</td>\n",
       "      <td>0.750000</td>\n",
       "      <td>129.523607</td>\n",
       "      <td>94.031123</td>\n",
       "      <td>48.779898</td>\n",
       "      <td>47.980598</td>\n",
       "      <td>43.452130</td>\n",
       "      <td>0.185778</td>\n",
       "      <td>150.588902</td>\n",
       "      <td>12</td>\n",
       "      <td>1.000000</td>\n",
       "      <td>1.000000</td>\n",
       "      <td>1.000000</td>\n",
       "    </tr>\n",
       "    <tr>\n",
       "      <td>6</td>\n",
       "      <td>358800</td>\n",
       "      <td>152.727099</td>\n",
       "      <td>0.747500</td>\n",
       "      <td>140.132768</td>\n",
       "      <td>95.258370</td>\n",
       "      <td>44.244540</td>\n",
       "      <td>48.769496</td>\n",
       "      <td>42.910659</td>\n",
       "      <td>0.183829</td>\n",
       "      <td>132.911484</td>\n",
       "      <td>0</td>\n",
       "      <td>0.993311</td>\n",
       "      <td>0.993311</td>\n",
       "      <td>0.993311</td>\n",
       "    </tr>\n",
       "    <tr>\n",
       "      <td>7</td>\n",
       "      <td>921600</td>\n",
       "      <td>160.318285</td>\n",
       "      <td>0.750000</td>\n",
       "      <td>148.373197</td>\n",
       "      <td>121.042699</td>\n",
       "      <td>35.172106</td>\n",
       "      <td>34.806389</td>\n",
       "      <td>43.451736</td>\n",
       "      <td>0.135625</td>\n",
       "      <td>170.916191</td>\n",
       "      <td>2</td>\n",
       "      <td>0.854167</td>\n",
       "      <td>0.854167</td>\n",
       "      <td>0.854167</td>\n",
       "    </tr>\n",
       "    <tr>\n",
       "      <td>...</td>\n",
       "      <td>...</td>\n",
       "      <td>...</td>\n",
       "      <td>...</td>\n",
       "      <td>...</td>\n",
       "      <td>...</td>\n",
       "      <td>...</td>\n",
       "      <td>...</td>\n",
       "      <td>...</td>\n",
       "      <td>...</td>\n",
       "      <td>...</td>\n",
       "      <td>...</td>\n",
       "      <td>...</td>\n",
       "      <td>...</td>\n",
       "      <td>...</td>\n",
       "    </tr>\n",
       "    <tr>\n",
       "      <td>701</td>\n",
       "      <td>1125000</td>\n",
       "      <td>146.971016</td>\n",
       "      <td>1.500000</td>\n",
       "      <td>121.615808</td>\n",
       "      <td>101.753323</td>\n",
       "      <td>71.804908</td>\n",
       "      <td>66.617562</td>\n",
       "      <td>65.705122</td>\n",
       "      <td>0.262465</td>\n",
       "      <td>163.765637</td>\n",
       "      <td>5</td>\n",
       "      <td>1.000000</td>\n",
       "      <td>1.000000</td>\n",
       "      <td>1.000000</td>\n",
       "    </tr>\n",
       "    <tr>\n",
       "      <td>703</td>\n",
       "      <td>921600</td>\n",
       "      <td>69.126969</td>\n",
       "      <td>0.750000</td>\n",
       "      <td>76.821738</td>\n",
       "      <td>83.774346</td>\n",
       "      <td>53.796817</td>\n",
       "      <td>52.613479</td>\n",
       "      <td>53.717972</td>\n",
       "      <td>0.206648</td>\n",
       "      <td>125.515971</td>\n",
       "      <td>2</td>\n",
       "      <td>1.000000</td>\n",
       "      <td>1.000000</td>\n",
       "      <td>1.000000</td>\n",
       "    </tr>\n",
       "    <tr>\n",
       "      <td>708</td>\n",
       "      <td>921600</td>\n",
       "      <td>139.511927</td>\n",
       "      <td>0.750000</td>\n",
       "      <td>128.518132</td>\n",
       "      <td>108.744251</td>\n",
       "      <td>51.465481</td>\n",
       "      <td>52.014388</td>\n",
       "      <td>47.179970</td>\n",
       "      <td>0.201587</td>\n",
       "      <td>154.750805</td>\n",
       "      <td>15</td>\n",
       "      <td>1.000000</td>\n",
       "      <td>1.000000</td>\n",
       "      <td>1.000000</td>\n",
       "    </tr>\n",
       "    <tr>\n",
       "      <td>710</td>\n",
       "      <td>1179648</td>\n",
       "      <td>121.314972</td>\n",
       "      <td>0.666667</td>\n",
       "      <td>118.776604</td>\n",
       "      <td>112.388003</td>\n",
       "      <td>55.311837</td>\n",
       "      <td>55.293525</td>\n",
       "      <td>41.599107</td>\n",
       "      <td>0.211384</td>\n",
       "      <td>157.646204</td>\n",
       "      <td>1</td>\n",
       "      <td>1.000000</td>\n",
       "      <td>1.000000</td>\n",
       "      <td>1.000000</td>\n",
       "    </tr>\n",
       "    <tr>\n",
       "      <td>713</td>\n",
       "      <td>1440000</td>\n",
       "      <td>165.961108</td>\n",
       "      <td>0.750000</td>\n",
       "      <td>178.490210</td>\n",
       "      <td>170.573794</td>\n",
       "      <td>49.042359</td>\n",
       "      <td>46.339547</td>\n",
       "      <td>50.077490</td>\n",
       "      <td>0.183618</td>\n",
       "      <td>177.522457</td>\n",
       "      <td>9</td>\n",
       "      <td>1.000000</td>\n",
       "      <td>1.000000</td>\n",
       "      <td>1.000000</td>\n",
       "    </tr>\n",
       "  </tbody>\n",
       "</table>\n",
       "<p>260 rows × 14 columns</p>\n",
       "</div>"
      ],
      "text/plain": [
       "        size     red_avg  aspectratio   green_avg    blue_avg    red_std  \\\n",
       "0     507000   70.508734     0.676000   63.289556   65.214751  56.791829   \n",
       "3    1102500  128.797793     0.750000  153.414112   97.354952  56.261125   \n",
       "4    5760000  133.162397     0.750000  129.523607   94.031123  48.779898   \n",
       "6     358800  152.727099     0.747500  140.132768   95.258370  44.244540   \n",
       "7     921600  160.318285     0.750000  148.373197  121.042699  35.172106   \n",
       "..       ...         ...          ...         ...         ...        ...   \n",
       "701  1125000  146.971016     1.500000  121.615808  101.753323  71.804908   \n",
       "703   921600   69.126969     0.750000   76.821738   83.774346  53.796817   \n",
       "708   921600  139.511927     0.750000  128.518132  108.744251  51.465481   \n",
       "710  1179648  121.314972     0.666667  118.776604  112.388003  55.311837   \n",
       "713  1440000  165.961108     0.750000  178.490210  170.573794  49.042359   \n",
       "\n",
       "     green_std   blue_std  grey_std    colorful  num_blob  red_rank  \\\n",
       "0    53.915260  57.074030  0.213765  155.684812        14  1.000000   \n",
       "3    59.727992  47.261959  0.225246  142.847149         8  1.000000   \n",
       "4    47.980598  43.452130  0.185778  150.588902        12  1.000000   \n",
       "6    48.769496  42.910659  0.183829  132.911484         0  0.993311   \n",
       "7    34.806389  43.451736  0.135625  170.916191         2  0.854167   \n",
       "..         ...        ...       ...         ...       ...       ...   \n",
       "701  66.617562  65.705122  0.262465  163.765637         5  1.000000   \n",
       "703  52.613479  53.717972  0.206648  125.515971         2  1.000000   \n",
       "708  52.014388  47.179970  0.201587  154.750805        15  1.000000   \n",
       "710  55.293525  41.599107  0.211384  157.646204         1  1.000000   \n",
       "713  46.339547  50.077490  0.183618  177.522457         9  1.000000   \n",
       "\n",
       "     green_rank  blue_rank  \n",
       "0      1.000000   1.000000  \n",
       "3      1.000000   1.000000  \n",
       "4      1.000000   1.000000  \n",
       "6      0.993311   0.993311  \n",
       "7      0.854167   0.854167  \n",
       "..          ...        ...  \n",
       "701    1.000000   1.000000  \n",
       "703    1.000000   1.000000  \n",
       "708    1.000000   1.000000  \n",
       "710    1.000000   1.000000  \n",
       "713    1.000000   1.000000  \n",
       "\n",
       "[260 rows x 14 columns]"
      ]
     },
     "execution_count": 25,
     "metadata": {},
     "output_type": "execute_result"
    }
   ],
   "source": [
    "X_test_large"
   ]
  },
  {
   "cell_type": "code",
   "execution_count": 33,
   "metadata": {},
   "outputs": [],
   "source": [
    "y_hat_small=log_model_small.predict(X_test_small)\n",
    "y_hat_small=pd.DataFrame({\n",
    "    'index':X_test_small.index,\n",
    "    'encoding':y_hat_small\n",
    "})\n",
    "\n",
    "y_hat_large=log_model_large.predict(X_test_large)\n",
    "y_hat_large=pd.DataFrame({\n",
    "    'index':X_test_large.index,\n",
    "    'encoding':y_hat_large\n",
    "})"
   ]
  },
  {
   "cell_type": "code",
   "execution_count": 44,
   "metadata": {},
   "outputs": [
    {
     "data": {
      "text/html": [
       "<div>\n",
       "<style scoped>\n",
       "    .dataframe tbody tr th:only-of-type {\n",
       "        vertical-align: middle;\n",
       "    }\n",
       "\n",
       "    .dataframe tbody tr th {\n",
       "        vertical-align: top;\n",
       "    }\n",
       "\n",
       "    .dataframe thead th {\n",
       "        text-align: right;\n",
       "    }\n",
       "</style>\n",
       "<table border=\"1\" class=\"dataframe\">\n",
       "  <thead>\n",
       "    <tr style=\"text-align: right;\">\n",
       "      <th></th>\n",
       "      <th>encoding</th>\n",
       "    </tr>\n",
       "    <tr>\n",
       "      <th>index</th>\n",
       "      <th></th>\n",
       "    </tr>\n",
       "  </thead>\n",
       "  <tbody>\n",
       "    <tr>\n",
       "      <td>0</td>\n",
       "      <td>11</td>\n",
       "    </tr>\n",
       "    <tr>\n",
       "      <td>1</td>\n",
       "      <td>12</td>\n",
       "    </tr>\n",
       "    <tr>\n",
       "      <td>2</td>\n",
       "      <td>12</td>\n",
       "    </tr>\n",
       "    <tr>\n",
       "      <td>3</td>\n",
       "      <td>11</td>\n",
       "    </tr>\n",
       "    <tr>\n",
       "      <td>4</td>\n",
       "      <td>11</td>\n",
       "    </tr>\n",
       "    <tr>\n",
       "      <td>...</td>\n",
       "      <td>...</td>\n",
       "    </tr>\n",
       "    <tr>\n",
       "      <td>711</td>\n",
       "      <td>12</td>\n",
       "    </tr>\n",
       "    <tr>\n",
       "      <td>712</td>\n",
       "      <td>10</td>\n",
       "    </tr>\n",
       "    <tr>\n",
       "      <td>713</td>\n",
       "      <td>11</td>\n",
       "    </tr>\n",
       "    <tr>\n",
       "      <td>714</td>\n",
       "      <td>12</td>\n",
       "    </tr>\n",
       "    <tr>\n",
       "      <td>715</td>\n",
       "      <td>12</td>\n",
       "    </tr>\n",
       "  </tbody>\n",
       "</table>\n",
       "<p>716 rows × 1 columns</p>\n",
       "</div>"
      ],
      "text/plain": [
       "       encoding\n",
       "index          \n",
       "0            11\n",
       "1            12\n",
       "2            12\n",
       "3            11\n",
       "4            11\n",
       "...         ...\n",
       "711          12\n",
       "712          10\n",
       "713          11\n",
       "714          12\n",
       "715          12\n",
       "\n",
       "[716 rows x 1 columns]"
      ]
     },
     "execution_count": 44,
     "metadata": {},
     "output_type": "execute_result"
    }
   ],
   "source": [
    "y_hat=pd.concat([y_hat_small, y_hat_large])\n",
    "y_hat=y_hat.sort_values(by='index').set_index(keys='index')\n",
    "y_hat"
   ]
  },
  {
   "cell_type": "code",
   "execution_count": 45,
   "metadata": {},
   "outputs": [],
   "source": [
    "y_hat.to_csv('predictions.csv')"
   ]
  },
  {
   "cell_type": "code",
   "execution_count": null,
   "metadata": {},
   "outputs": [],
   "source": []
  }
 ],
 "metadata": {
  "kernelspec": {
   "display_name": "Python 3",
   "language": "python",
   "name": "python3"
  },
  "language_info": {
   "codemirror_mode": {
    "name": "ipython",
    "version": 3
   },
   "file_extension": ".py",
   "mimetype": "text/x-python",
   "name": "python",
   "nbconvert_exporter": "python",
   "pygments_lexer": "ipython3",
   "version": "3.7.3"
  }
 },
 "nbformat": 4,
 "nbformat_minor": 2
}
