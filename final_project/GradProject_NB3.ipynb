{
 "cells": [
  {
   "cell_type": "markdown",
   "metadata": {},
   "source": [
    "\n",
    "<h1> DS200A Computer Vision Assignment</h1>"
   ]
  },
  {
   "cell_type": "markdown",
   "metadata": {},
   "source": [
    "<h2>  Part Three: Classifier training and performance assessment. </h2>\t"
   ]
  },
  {
   "cell_type": "code",
   "execution_count": 1,
   "metadata": {},
   "outputs": [],
   "source": [
    "import numpy as np\n",
    "import pandas as pd\n",
    "import pickle\n",
    "from sklearn.model_selection import train_test_split as sksplit\n",
    "from sklearn.model_selection import RandomizedSearchCV\n",
    "from sklearn.model_selection import cross_val_score\n",
    "from sklearn.feature_selection import RFECV\n",
    "import matplotlib.pyplot as plt"
   ]
  },
  {
   "cell_type": "code",
   "execution_count": 2,
   "metadata": {},
   "outputs": [],
   "source": [
    "def train_test_split(df):\n",
    "    return sksplit(df, test_size=0.2, random_state=42)\n",
    "#Split the data into a training set, and test set \n",
    "def accuracy(pred, actual):\n",
    "    return np.sum(np.equal(pred, actual))/len(pred)\n",
    "# Calculate the accuracy percentage of the predicted values"
   ]
  },
  {
   "cell_type": "code",
   "execution_count": 3,
   "metadata": {},
   "outputs": [],
   "source": [
    "data = pd.read_pickle('transformed_data.pkl')\n",
    "X, y=data.iloc[:, :-1], data.iloc[:, -1]\n",
    "train, val = train_test_split(data)\n",
    "X_train, Y_train = train.iloc[:, :-1], train.iloc[:, -1]\n",
    "X_val, Y_val = val.iloc[:, :-1], val.iloc[:, -1]"
   ]
  },
  {
   "cell_type": "markdown",
   "metadata": {},
   "source": [
    "<h3>  Train models using all of the following methods below. Be sure to drop the actual image column, and the encoding</h3>\tTake note of the differences in accuracy, and methods.\n"
   ]
  },
  {
   "cell_type": "markdown",
   "metadata": {},
   "source": [
    "## Logistic Regression"
   ]
  },
  {
   "cell_type": "code",
   "execution_count": 4,
   "metadata": {},
   "outputs": [],
   "source": [
    "from sklearn.linear_model import LogisticRegression"
   ]
  },
  {
   "cell_type": "code",
   "execution_count": 5,
   "metadata": {},
   "outputs": [],
   "source": [
    "import warnings\n",
    "warnings.filterwarnings(\"ignore\")"
   ]
  },
  {
   "cell_type": "code",
   "execution_count": 6,
   "metadata": {},
   "outputs": [
    {
     "name": "stdout",
     "output_type": "stream",
     "text": [
      "0.41083333333333333 0.34551495016611294\n"
     ]
    }
   ],
   "source": [
    "log_model = LogisticRegression(multi_class='ovr', penalty='l1', C=1.0).fit(X_train, Y_train)\n",
    "training_accuracy = accuracy(log_model.predict(X_train), Y_train)\n",
    "val_accuracy = accuracy(log_model.predict(X_val), Y_val)\n",
    "print(training_accuracy, val_accuracy)"
   ]
  },
  {
   "cell_type": "code",
   "execution_count": 7,
   "metadata": {},
   "outputs": [],
   "source": [
    "X, y=data.iloc[:, :-1], data.iloc[:, -1]\n",
    "log_model = LogisticRegression(multi_class='ovr', penalty='l1', C=1)\n",
    "selector = RFECV(log_model, step=1, cv=5).fit(X, y)\n",
    "rank=selector.ranking_"
   ]
  },
  {
   "cell_type": "code",
   "execution_count": 9,
   "metadata": {},
   "outputs": [],
   "source": [
    "pens=np.linspace(0.1,5.1,20)\n",
    "X, y=data.iloc[:, :-1], data.iloc[:, -1]\n",
    "fets=range(1, max(rank)+1)\n",
    "val_acc=[[0 for i in range(0, len(pens))] for j in range(0, len(fets))]\n",
    "\n",
    "for i in range(0,len(fets)):\n",
    "    n=fets[i]\n",
    "    X_r=X[X.columns[rank<=n]]\n",
    "    for j in range(0,len(pens)):\n",
    "        log_model = LogisticRegression(multi_class='ovr', penalty='l1', C=pens[j])\n",
    "\n",
    "        val_acc[i][j] = np.mean(cross_val_score(log_model, X_r, y, cv=5))"
   ]
  },
  {
   "cell_type": "code",
   "execution_count": 10,
   "metadata": {},
   "outputs": [
    {
     "data": {
      "text/plain": [
       "0.3743241836345045"
      ]
     },
     "execution_count": 10,
     "metadata": {},
     "output_type": "execute_result"
    }
   ],
   "source": [
    "val_mat=np.matrix(val_acc)\n",
    "a,b=np.unravel_index(val_mat.argmax(), val_mat.shape)\n",
    "val_mat[a,b]"
   ]
  },
  {
   "cell_type": "code",
   "execution_count": 11,
   "metadata": {},
   "outputs": [],
   "source": [
    "n_opt=fets[a]\n",
    "log_pen=pens[b]"
   ]
  },
  {
   "cell_type": "code",
   "execution_count": 12,
   "metadata": {},
   "outputs": [
    {
     "data": {
      "image/png": "[encoded data removed]",
      "text/plain": [
       "<Figure size 576x360 with 1 Axes>"
      ]
     },
     "metadata": {
      "needs_background": "light"
     },
     "output_type": "display_data"
    }
   ],
   "source": [
    "plt.figure(figsize=(8,5))\n",
    "for i in range(0,len(fets)):\n",
    "    n=fets[i]\n",
    "    plt.plot(pens, val_acc[i], label='validation accuracy with features of top ranked '+str(n))\n",
    "plt.scatter(pens[b], val_mat[a,b], color='r')\n",
    "plt.legend();"
   ]
  },
  {
   "cell_type": "code",
   "execution_count": 13,
   "metadata": {},
   "outputs": [
    {
     "name": "stdout",
     "output_type": "stream",
     "text": [
      "0.415 0.3488372093023256\n"
     ]
    }
   ],
   "source": [
    "columns=X.columns[rank<=n_opt]\n",
    "X_train_log=X_train[columns]\n",
    "X_val_log=X_val[columns]\n",
    "\n",
    "log_model = LogisticRegression(multi_class='ovr', penalty='l1', C=log_pen).fit(X_train_log, Y_train)\n",
    "\n",
    "training_accuracy = accuracy(log_model.predict(X_train_log), Y_train)\n",
    "val_accuracy = accuracy(log_model.predict(X_val_log), Y_val)\n",
    "print(training_accuracy, val_accuracy)"
   ]
  },
  {
   "cell_type": "markdown",
   "metadata": {},
   "source": [
    "Based on the result of EDA, next we will train logistic classifier on two types of samples, one has image size lower than 300000, and the other has image size larger or equal to 300000, and see if it can provide us a better result."
   ]
  },
  {
   "cell_type": "code",
   "execution_count": 20,
   "metadata": {},
   "outputs": [
    {
     "name": "stdout",
     "output_type": "stream",
     "text": [
      "0.49770992366412214 0.4117647058823529\n",
      "0.3651376146788991 0.3310810810810811\n",
      "average validation error:\n",
      "0.3751208929517753\n"
     ]
    }
   ],
   "source": [
    "log_model_small = LogisticRegression(multi_class='ovr', penalty='l1', C=log_pen)\n",
    "log_model_large = LogisticRegression(multi_class='ovr', penalty='l1', C=log_pen)\n",
    "errors = []\n",
    "\n",
    "X_train_small=X_train_log[X_train_log['size']<300000]\n",
    "Y_train_small=Y_train[X_train_log['size']<300000]\n",
    "X_val_small=X_val_log[X_val_log['size']<300000]\n",
    "Y_val_small=Y_val[X_val_log['size']<300000]\n",
    "\n",
    "X_train_large=X_train_log[X_train_log['size']>300000]\n",
    "Y_train_large=Y_train[X_train_log['size']>300000]\n",
    "X_val_large=X_val_log[X_val_log['size']>300000]\n",
    "Y_val_large=Y_val[X_val_log['size']>300000]\n",
    "\n",
    "\n",
    "training_accuracy_small = accuracy(log_model_small.fit(X_train_small, Y_train_small).predict(X_train_small), Y_train_small)\n",
    "val_accuracy_small = accuracy(log_model_small.predict(X_val_small), Y_val_small)\n",
    "print(training_accuracy_small, val_accuracy_small)\n",
    "\n",
    "training_accuracy_large = accuracy(log_model_large.fit(X_train_large, Y_train_large).predict(X_train_large), Y_train_large)\n",
    "val_accuracy_large = accuracy(log_model_large.predict(X_val_large), Y_val_large)\n",
    "print(training_accuracy_large, val_accuracy_large)\n",
    "\n",
    "print(\"average validation error:\")\n",
    "print((val_accuracy_small*len(X_train_small)+val_accuracy_large*len(X_train_large))/len(X_train_log))"
   ]
  },
  {
   "cell_type": "markdown",
   "metadata": {},
   "source": [
    "## K-nearest Neighbors"
   ]
  },
  {
   "cell_type": "code",
   "execution_count": 23,
   "metadata": {},
   "outputs": [],
   "source": [
    "from sklearn.neighbors import KNeighborsClassifier"
   ]
  },
  {
   "cell_type": "code",
   "execution_count": 24,
   "metadata": {},
   "outputs": [
    {
     "name": "stdout",
     "output_type": "stream",
     "text": [
      "0.2966666666666667\n"
     ]
    }
   ],
   "source": [
    "n_neighbors = 15\n",
    "knn_model = KNeighborsClassifier(n_neighbors=n_neighbors).fit(X_train, Y_train)\n",
    "training_accuracy = accuracy(knn_model.predict(X_train), Y_train)\n",
    "print(training_accuracy)"
   ]
  },
  {
   "cell_type": "code",
   "execution_count": 22,
   "metadata": {},
   "outputs": [
    {
     "name": "stdout",
     "output_type": "stream",
     "text": [
      "0.16611295681063123\n"
     ]
    }
   ],
   "source": [
    "val_accuracy = accuracy(knn_model.predict(X_val), Y_val)\n",
    "print(val_accuracy)"
   ]
  },
  {
   "cell_type": "markdown",
   "metadata": {},
   "source": [
    "## Classification Tree"
   ]
  },
  {
   "cell_type": "code",
   "execution_count": 194,
   "metadata": {},
   "outputs": [
    {
     "name": "stdout",
     "output_type": "stream",
     "text": [
      "1.0\n"
     ]
    }
   ],
   "source": [
    "from sklearn.tree import DecisionTreeClassifier\n",
    "dtree_model = DecisionTreeClassifier(max_depth=None).fit(X_train, Y_train)\n",
    "training_accuracy = accuracy(dtree_model.predict(X_train), Y_train)\n",
    "print(training_accuracy)"
   ]
  },
  {
   "cell_type": "code",
   "execution_count": 195,
   "metadata": {},
   "outputs": [
    {
     "name": "stdout",
     "output_type": "stream",
     "text": [
      "0.26245847176079734\n"
     ]
    }
   ],
   "source": [
    "val_accuracy = accuracy(dtree_model.predict(X_val), Y_val)\n",
    "print(val_accuracy)"
   ]
  },
  {
   "cell_type": "markdown",
   "metadata": {},
   "source": [
    "## Random Forest"
   ]
  },
  {
   "cell_type": "code",
   "execution_count": 26,
   "metadata": {},
   "outputs": [],
   "source": [
    "from sklearn.ensemble import RandomForestClassifier"
   ]
  },
  {
   "cell_type": "code",
   "execution_count": 27,
   "metadata": {},
   "outputs": [],
   "source": [
    "forest_model = RandomForestClassifier(n_estimators=100, \n",
    "                                    bootstrap = True, \n",
    "                                    max_features = 'sqrt', \n",
    "                                    max_depth=None)\n",
    "selector = RFECV(forest_model, step=1, cv=5).fit(X_r, y)\n",
    "rank=selector.ranking_"
   ]
  },
  {
   "cell_type": "code",
   "execution_count": 232,
   "metadata": {},
   "outputs": [],
   "source": [
    "val_acc=[]\n",
    "deps=range(1,25)\n",
    "X, y=data.iloc[:, :-1], data.iloc[:, -1]\n",
    "fets=range(1, max(rank)+1)\n",
    "val_acc=[[0 for i in range(0, len(deps))] for j in range(0, len(fets))]\n",
    "\n",
    "for i in range(0,len(fets)):\n",
    "    n=fets[i]\n",
    "    X_r=X[X.columns[rank<=n]]\n",
    "    for j in range(0,len(deps)):\n",
    "        forest_model = RandomForestClassifier(n_estimators=100, \n",
    "                                                      bootstrap = True, \n",
    "                                                      max_features = 'sqrt', \n",
    "                                                      max_depth=deps[j])\n",
    "\n",
    "        val_acc[i][j] = np.mean(cross_val_score(forest_model, X_r, y, cv=5))"
   ]
  },
  {
   "cell_type": "code",
   "execution_count": 245,
   "metadata": {},
   "outputs": [
    {
     "data": {
      "text/plain": [
       "0.3724163334015662"
      ]
     },
     "execution_count": 245,
     "metadata": {},
     "output_type": "execute_result"
    }
   ],
   "source": [
    "val_mat = np.matrix(val_mat)\n",
    "a,b=np.unravel_index(val_mat.argmax(), val_mat.shape)\n",
    "val_mat[a,b]"
   ]
  },
  {
   "cell_type": "code",
   "execution_count": 257,
   "metadata": {},
   "outputs": [],
   "source": [
    "n_opt=fets[a]\n",
    "rf_dep=deps[b]"
   ]
  },
  {
   "cell_type": "code",
   "execution_count": 254,
   "metadata": {},
   "outputs": [
    {
     "data": {
      "image/png": "[encoded data removed]",
      "text/plain": [
       "<Figure size 576x360 with 1 Axes>"
      ]
     },
     "metadata": {
      "needs_background": "light"
     },
     "output_type": "display_data"
    }
   ],
   "source": [
    "plt.figure(figsize=(8,5))\n",
    "#plt.plot(deps, train_acc, label='train accuracy')\n",
    "for i in range(0,len(fets)):\n",
    "    n=fets[i]\n",
    "    plt.plot(deps, val_acc[i], label='validation accuracy with features of top ranked '+str(n))\n",
    "plt.scatter(deps[b], val_mat[a,b], color='r')\n",
    "plt.xticks(deps)\n",
    "plt.legend();"
   ]
  },
  {
   "cell_type": "code",
   "execution_count": 260,
   "metadata": {},
   "outputs": [
    {
     "name": "stdout",
     "output_type": "stream",
     "text": [
      "0.9883333333333333 0.3588039867109635\n"
     ]
    }
   ],
   "source": [
    "columns=X.columns[rank<=n_opt]\n",
    "X_train_rf=X_train[columns]\n",
    "X_val_rf=X_val[columns]\n",
    "\n",
    "forest_model = RandomForestClassifier(n_estimators=100, \n",
    "                                      bootstrap = True, \n",
    "                                      max_features = 'sqrt', \n",
    "                                      max_depth=rf_dep).fit(X_train_rf, Y_train)\n",
    "training_accuracy = accuracy(forest_model.predict(X_train_rf), Y_train)\n",
    "val_accuracy = accuracy(forest_model.predict(X_val_rf), Y_val)\n",
    "print(training_accuracy, val_accuracy)"
   ]
  },
  {
   "cell_type": "markdown",
   "metadata": {},
   "source": [
    "## Support Vector Machine"
   ]
  },
  {
   "cell_type": "code",
   "execution_count": null,
   "metadata": {},
   "outputs": [],
   "source": [
    "from sklearn.svm import SVC\n",
    "svc_model = SVC(C=1.0, tol=1e-3, kernel='linear').fit(X_train, Y_train)\n",
    "training_accuracy = accuracy(svc_model.predict(X_train), Y_train)\n",
    "print(training_accuracy)"
   ]
  },
  {
   "cell_type": "code",
   "execution_count": 48,
   "metadata": {},
   "outputs": [
    {
     "name": "stdout",
     "output_type": "stream",
     "text": [
      "0.11295681063122924\n"
     ]
    }
   ],
   "source": [
    "val_accuracy = accuracy(svc_model.predict(X_val), Y_val)\n",
    "print(val_accuracy)"
   ]
  }
 ],
 "metadata": {
  "kernelspec": {
   "display_name": "Python 3",
   "language": "python",
   "name": "python3"
  },
  "language_info": {
   "codemirror_mode": {
    "name": "ipython",
    "version": 3
   },
   "file_extension": ".py",
   "mimetype": "text/x-python",
   "name": "python",
   "nbconvert_exporter": "python",
   "pygments_lexer": "ipython3",
   "version": "3.7.3"
  }
 },
 "nbformat": 4,
 "nbformat_minor": 2
}
