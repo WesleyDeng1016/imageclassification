{
 "cells": [
  {
   "cell_type": "markdown",
   "metadata": {},
   "source": [
    "\n",
    "<h1> DS200A Computer Vision Assignment</h1>"
   ]
  },
  {
   "cell_type": "markdown",
   "metadata": {},
   "source": [
    "<h2>  Part Three: Classifier training and performance assessment. </h2>\t"
   ]
  },
  {
   "cell_type": "code",
   "execution_count": 2,
   "metadata": {},
   "outputs": [],
   "source": [
    "import warnings\n",
    "warnings.filterwarnings(\"ignore\")"
   ]
  },
  {
   "cell_type": "code",
   "execution_count": 3,
   "metadata": {},
   "outputs": [],
   "source": [
    "import numpy as np\n",
    "import pandas as pd\n",
    "import pickle\n",
    "from sklearn.model_selection import train_test_split as sksplit\n",
    "from sklearn.model_selection import RandomizedSearchCV\n",
    "from sklearn.model_selection import cross_val_score\n",
    "from sklearn.feature_selection import RFECV\n",
    "import matplotlib.pyplot as plt"
   ]
  },
  {
   "cell_type": "code",
   "execution_count": 4,
   "metadata": {},
   "outputs": [],
   "source": [
    "def train_test_split(df):\n",
    "    return sksplit(df, test_size=0.2, random_state=42)\n",
    "#Split the data into a training set, and test set \n",
    "def accuracy(pred, actual):\n",
    "    return np.sum(np.equal(pred, actual))/len(pred)\n",
    "# Calculate the accuracy percentage of the predicted values"
   ]
  },
  {
   "cell_type": "code",
   "execution_count": 5,
   "metadata": {},
   "outputs": [],
   "source": [
    "X = pd.read_pickle('transformed_data.pkl')\n",
    "y = pd.read_pickle('transformed_y.pkl')\n",
    "X_train, X_val = train_test_split(X)\n",
    "Y_train = y[X_train.index]\n",
    "Y_val = y[X_val.index]"
   ]
  },
  {
   "cell_type": "markdown",
   "metadata": {},
   "source": [
    "<h3>  Train models using all of the following methods below. Be sure to drop the actual image column, and the encoding</h3>\tTake note of the differences in accuracy, and methods.\n"
   ]
  },
  {
   "cell_type": "markdown",
   "metadata": {},
   "source": [
    "## Logistic Regression"
   ]
  },
  {
   "cell_type": "code",
   "execution_count": 146,
   "metadata": {},
   "outputs": [],
   "source": [
    "from sklearn.linear_model import LogisticRegression"
   ]
  },
  {
   "cell_type": "code",
   "execution_count": 147,
   "metadata": {},
   "outputs": [
    {
     "name": "stdout",
     "output_type": "stream",
     "text": [
      "0.4103214890016921 0.4222972972972973\n"
     ]
    }
   ],
   "source": [
    "log_model = LogisticRegression(multi_class='ovr', penalty='l1', C=1.0).fit(X_train, Y_train)\n",
    "training_accuracy = accuracy(log_model.predict(X_train), Y_train)\n",
    "val_accuracy = accuracy(log_model.predict(X_val), Y_val)\n",
    "print(training_accuracy, val_accuracy)"
   ]
  },
  {
   "cell_type": "code",
   "execution_count": 148,
   "metadata": {},
   "outputs": [],
   "source": [
    "log_model = LogisticRegression(multi_class='ovr', penalty='l1', C=1)\n",
    "selector = RFECV(log_model, step=1, cv=5).fit(X, y)\n",
    "rank=selector.ranking_"
   ]
  },
  {
   "cell_type": "code",
   "execution_count": 170,
   "metadata": {},
   "outputs": [],
   "source": [
    "pens=np.linspace(0.1,5.1,50)\n",
    "fets=range(1, max(rank)+1)\n",
    "val_acc=[[0 for i in range(0, len(pens))] for j in range(0, len(fets))]\n",
    "\n",
    "for i in range(0,len(fets)):\n",
    "    n=fets[i]\n",
    "    X_r=X[X.columns[rank<=n]]\n",
    "    for j in range(0,len(pens)):\n",
    "        log_model = LogisticRegression(multi_class='ovr', penalty='l1', C=pens[j])\n",
    "        val_acc[i][j] = np.mean(cross_val_score(log_model, X_r, y, cv=5))"
   ]
  },
  {
   "cell_type": "code",
   "execution_count": 171,
   "metadata": {},
   "outputs": [
    {
     "data": {
      "text/plain": [
       "0.3727529127068806"
      ]
     },
     "execution_count": 171,
     "metadata": {},
     "output_type": "execute_result"
    }
   ],
   "source": [
    "val_mat=np.matrix(val_acc)\n",
    "a,b=np.unravel_index(val_mat.argmax(), val_mat.shape)\n",
    "val_mat[a,b]"
   ]
  },
  {
   "cell_type": "code",
   "execution_count": 172,
   "metadata": {},
   "outputs": [],
   "source": [
    "n_opt=fets[a]\n",
    "log_pen=pens[b]"
   ]
  },
  {
   "cell_type": "code",
   "execution_count": 173,
   "metadata": {},
   "outputs": [
    {
     "data": {
      "image/png": "[encoded data removed]",
      "text/plain": [
       "<Figure size 576x360 with 1 Axes>"
      ]
     },
     "metadata": {
      "needs_background": "light"
     },
     "output_type": "display_data"
    }
   ],
   "source": [
    "plt.figure(figsize=(8,5))\n",
    "for i in range(0,len(fets)):\n",
    "    n=fets[i]\n",
    "    plt.plot(pens, val_acc[i], label='validation accuracy with features of top ranked '+str(n))\n",
    "plt.scatter(pens[b], val_mat[a,b], color='r')\n",
    "plt.xlabel('penalty term')\n",
    "plt.legend();"
   ]
  },
  {
   "cell_type": "code",
   "execution_count": 174,
   "metadata": {},
   "outputs": [
    {
     "name": "stdout",
     "output_type": "stream",
     "text": [
      "0.41624365482233505 0.40202702702702703\n"
     ]
    }
   ],
   "source": [
    "columns=X.columns[rank<=n_opt]\n",
    "X_train_log=X_train[columns]\n",
    "X_val_log=X_val[columns]\n",
    "\n",
    "log_model = LogisticRegression(multi_class='ovr', penalty='l1', C=log_pen).fit(X_train_log, Y_train)\n",
    "\n",
    "training_accuracy = accuracy(log_model.predict(X_train_log), Y_train)\n",
    "val_accuracy = accuracy(log_model.predict(X_val_log), Y_val)\n",
    "print(training_accuracy, val_accuracy)"
   ]
  },
  {
   "cell_type": "markdown",
   "metadata": {},
   "source": [
    "Based on the result of EDA, next we will train logistic classifier on two types of samples, one has image size lower than 300000, and the other has image size larger or equal to 300000, and see if it can provide us a better result."
   ]
  },
  {
   "cell_type": "code",
   "execution_count": 168,
   "metadata": {},
   "outputs": [],
   "source": [
    "X_train_small=X_train_log[X_train_log['size']<300000]\n",
    "Y_train_small=Y_train[X_train_log['size']<300000]\n",
    "X_val_small=X_val_log[X_val_log['size']<300000]\n",
    "Y_val_small=Y_val[X_val_log['size']<300000]\n",
    "\n",
    "X_train_large=X_train_log[X_train_log['size']>=300000]\n",
    "Y_train_large=Y_train[X_train_log['size']>=300000]\n",
    "X_val_large=X_val_log[X_val_log['size']>=300000]\n",
    "Y_val_large=Y_val[X_val_log['size']>=300000]"
   ]
  },
  {
   "cell_type": "code",
   "execution_count": 177,
   "metadata": {},
   "outputs": [
    {
     "name": "stdout",
     "output_type": "stream",
     "text": [
      "0.5046875 0.5\n",
      "0.34870848708487084 0.359375\n",
      "average validation error:\n",
      "0.43551713197969544\n"
     ]
    }
   ],
   "source": [
    "log_model_small = LogisticRegression(multi_class='ovr', penalty='l1', C=log_pen)\n",
    "log_model_large = LogisticRegression(multi_class='ovr', penalty='l1', C=log_pen)\n",
    "errors = []\n",
    "\n",
    "training_accuracy_small = accuracy(log_model_small.fit(X_train_small, Y_train_small).predict(X_train_small), Y_train_small)\n",
    "val_accuracy_small = accuracy(log_model_small.predict(X_val_small), Y_val_small)\n",
    "print(training_accuracy_small, val_accuracy_small)\n",
    "\n",
    "training_accuracy_large = accuracy(log_model_large.fit(X_train_large, Y_train_large).predict(X_train_large), Y_train_large)\n",
    "val_accuracy_large = accuracy(log_model_large.predict(X_val_large), Y_val_large)\n",
    "print(training_accuracy_large, val_accuracy_large)\n",
    "\n",
    "print(\"average validation error:\")\n",
    "print((val_accuracy_small*len(X_train_small)+val_accuracy_large*len(X_train_large))/len(X_train_log))"
   ]
  },
  {
   "cell_type": "markdown",
   "metadata": {},
   "source": [
    "### The average validation error for our final logistic regression classifier is 0.43551713197969544, with all features selected and 4.079591836734694 regularization term."
   ]
  },
  {
   "cell_type": "markdown",
   "metadata": {},
   "source": [
    "## K-nearest Neighbors"
   ]
  },
  {
   "cell_type": "code",
   "execution_count": 6,
   "metadata": {},
   "outputs": [],
   "source": [
    "from sklearn.neighbors import KNeighborsClassifier"
   ]
  },
  {
   "cell_type": "markdown",
   "metadata": {},
   "source": [
    "Let's first try to fit KNN classifier on the whole dataset"
   ]
  },
  {
   "cell_type": "code",
   "execution_count": 33,
   "metadata": {},
   "outputs": [],
   "source": [
    "neighbors =range (1, 251, 10)\n",
    "vals=[]\n",
    "for n_neighbors in neighbors:\n",
    "    knn_model = KNeighborsClassifier(n_neighbors=n_neighbors).fit(X_train, Y_train)\n",
    "    training_accuracy = accuracy(knn_model.predict(X_train), Y_train)\n",
    "    val_accuracy = accuracy(knn_model.predict(X_val), Y_val)\n",
    "    vals.append(val_accuracy)"
   ]
  },
  {
   "cell_type": "code",
   "execution_count": 34,
   "metadata": {},
   "outputs": [
    {
     "data": {
      "image/png": "[encoded data removed]",
      "text/plain": [
       "<Figure size 432x288 with 1 Axes>"
      ]
     },
     "metadata": {
      "needs_background": "light"
     },
     "output_type": "display_data"
    }
   ],
   "source": [
    "plt.plot(neighbors, vals)\n",
    "plt.xlabel('k values')\n",
    "plt.ylabel('validation accuracy');"
   ]
  },
  {
   "cell_type": "markdown",
   "metadata": {},
   "source": [
    "KNN seems to perform better when the k values is between 1-20, so let's get a closer look here."
   ]
  },
  {
   "cell_type": "code",
   "execution_count": 36,
   "metadata": {},
   "outputs": [],
   "source": [
    "neighbors =range (1, 20)\n",
    "vals=[]\n",
    "for n_neighbors in neighbors:\n",
    "    knn_model = KNeighborsClassifier(n_neighbors=n_neighbors).fit(X_train, Y_train)\n",
    "    training_accuracy = accuracy(knn_model.predict(X_train), Y_train)\n",
    "    val_accuracy = accuracy(knn_model.predict(X_val), Y_val)\n",
    "    vals.append(val_accuracy)"
   ]
  },
  {
   "cell_type": "code",
   "execution_count": 37,
   "metadata": {},
   "outputs": [
    {
     "data": {
      "image/png": "[encoded data removed]",
      "text/plain": [
       "<Figure size 432x288 with 1 Axes>"
      ]
     },
     "metadata": {
      "needs_background": "light"
     },
     "output_type": "display_data"
    }
   ],
   "source": [
    "plt.plot(neighbors, vals)\n",
    "plt.scatter(neighbors[np.argmax(vals)], max(vals), color='r')\n",
    "plt.xlabel('k values')\n",
    "plt.ylabel('validation accuracy');"
   ]
  },
  {
   "cell_type": "code",
   "execution_count": 38,
   "metadata": {},
   "outputs": [
    {
     "name": "stdout",
     "output_type": "stream",
     "text": [
      "0.3147208121827411 0.24324324324324326\n"
     ]
    }
   ],
   "source": [
    "n_neighbors=neighbors[np.argmax(vals)]\n",
    "knn_model = KNeighborsClassifier(n_neighbors=n_neighbors).fit(X_train, Y_train)\n",
    "training_accuracy = accuracy(knn_model.predict(X_train), Y_train)\n",
    "val_accuracy = accuracy(knn_model.predict(X_val), Y_val)\n",
    "print(training_accuracy, val_accuracy)"
   ]
  },
  {
   "cell_type": "markdown",
   "metadata": {},
   "source": [
    "The validation accuracy of the current KNN is 0.24324324324324326, so let's further try to fit KNN on images with small image size and those with large image size separately."
   ]
  },
  {
   "cell_type": "code",
   "execution_count": 63,
   "metadata": {},
   "outputs": [],
   "source": [
    "X_tr_sknn=X_train[X_train['size']<300000]\n",
    "Y_tr_sknn=Y_train[X_train['size']<300000]\n",
    "X_val_sknn=X_val[X_val['size']<300000]\n",
    "Y_val_sknn=Y_val[X_val['size']<300000]\n",
    "\n",
    "X_tr_lknn=X_train[X_train['size']>=300000]\n",
    "Y_tr_lknn=Y_train[X_train['size']>=300000]\n",
    "X_val_lknn=X_val[X_val['size']>=300000]\n",
    "Y_val_lknn=Y_val[X_val['size']>=300000]"
   ]
  },
  {
   "cell_type": "code",
   "execution_count": 80,
   "metadata": {},
   "outputs": [],
   "source": [
    "neighbors =range (1, 100)\n",
    "train_small=[]\n",
    "vals_small=[]\n",
    "for n_neighbors in neighbors:\n",
    "    knn_model_small = KNeighborsClassifier(n_neighbors=n_neighbors).fit(X_tr_sknn, Y_tr_sknn)\n",
    "    train_accuracy_small = accuracy(knn_model_small.predict(X_tr_sknn), Y_tr_sknn)\n",
    "    val_accuracy_small = accuracy(knn_model_small.predict(X_val_sknn), Y_val_sknn)\n",
    "    train_small.append(train_accuracy_small)\n",
    "    vals_small.append(val_accuracy_small)"
   ]
  },
  {
   "cell_type": "code",
   "execution_count": 82,
   "metadata": {},
   "outputs": [
    {
     "data": {
      "image/png": "[encoded data removed]",
      "text/plain": [
       "<Figure size 432x288 with 1 Axes>"
      ]
     },
     "metadata": {
      "needs_background": "light"
     },
     "output_type": "display_data"
    }
   ],
   "source": [
    "plt.plot(neighbors, vals_small, label='validation accuracy')\n",
    "plt.plot(neighbors, train_small, label='training accuracy')\n",
    "plt.scatter(neighbors[np.argmax(vals_small)], max(vals_small), color='r')\n",
    "plt.xlabel('k values')\n",
    "plt.legend()\n",
    "plt.ylabel('validation accuracy');"
   ]
  },
  {
   "cell_type": "code",
   "execution_count": 83,
   "metadata": {},
   "outputs": [],
   "source": [
    "neighbors =range (1, 100)\n",
    "train_large=[]\n",
    "vals_large=[]\n",
    "for n_neighbors in neighbors:\n",
    "    knn_model_large = KNeighborsClassifier(n_neighbors=n_neighbors).fit(X_tr_lknn, Y_tr_lknn)\n",
    "    train_accuracy_large = accuracy(knn_model_large.predict(X_tr_lknn), Y_tr_lknn)\n",
    "    val_accuracy_large = accuracy(knn_model_large.predict(X_val_lknn), Y_val_lknn)\n",
    "    train_large.append(train_accuracy_large)\n",
    "    vals_large.append(val_accuracy_large)"
   ]
  },
  {
   "cell_type": "code",
   "execution_count": 84,
   "metadata": {},
   "outputs": [
    {
     "data": {
      "image/png": "[encoded data removed]",
      "text/plain": [
       "<Figure size 432x288 with 1 Axes>"
      ]
     },
     "metadata": {
      "needs_background": "light"
     },
     "output_type": "display_data"
    }
   ],
   "source": [
    "plt.plot(neighbors, vals_large, label='validation accuracy')\n",
    "plt.plot(neighbors, train_large, label='training accuracy')\n",
    "plt.scatter(neighbors[np.argmax(vals_large)], max(vals_large), color='r')\n",
    "plt.xlabel('k values')\n",
    "plt.legend()\n",
    "plt.ylabel('accuracy');"
   ]
  },
  {
   "cell_type": "code",
   "execution_count": 85,
   "metadata": {},
   "outputs": [
    {
     "name": "stdout",
     "output_type": "stream",
     "text": [
      "average validation error:\n",
      "0.2517732505438724\n"
     ]
    }
   ],
   "source": [
    "print(\"average validation error:\")\n",
    "print((max(vals_small)*len(X_tr_sknn)+max(vals_large)*len(X_tr_lknn))/len(X_train))"
   ]
  },
  {
   "cell_type": "code",
   "execution_count": 86,
   "metadata": {},
   "outputs": [
    {
     "data": {
      "text/plain": [
       "11"
      ]
     },
     "execution_count": 86,
     "metadata": {},
     "output_type": "execute_result"
    }
   ],
   "source": [
    "neighbors[np.argmax(vals_large)]"
   ]
  },
  {
   "cell_type": "code",
   "execution_count": 88,
   "metadata": {},
   "outputs": [
    {
     "data": {
      "text/plain": [
       "0.3392857142857143"
      ]
     },
     "execution_count": 88,
     "metadata": {},
     "output_type": "execute_result"
    }
   ],
   "source": [
    "max(vals_small)"
   ]
  },
  {
   "cell_type": "code",
   "execution_count": 89,
   "metadata": {},
   "outputs": [
    {
     "data": {
      "text/plain": [
       "0.1484375"
      ]
     },
     "execution_count": 89,
     "metadata": {},
     "output_type": "execute_result"
    }
   ],
   "source": [
    "max(vals_large)"
   ]
  },
  {
   "cell_type": "markdown",
   "metadata": {},
   "source": [
    "### The average validation error for our final KNN classifier is 0.2517732505438724, where the chosen k value is 11, validation error on small images is 0.3392857142857143, and that on big images is 0.1484375."
   ]
  },
  {
   "cell_type": "markdown",
   "metadata": {},
   "source": [
    "## Classification Tree"
   ]
  },
  {
   "cell_type": "code",
   "execution_count": 143,
   "metadata": {},
   "outputs": [],
   "source": [
    "from sklearn.tree import DecisionTreeClassifier"
   ]
  },
  {
   "cell_type": "code",
   "execution_count": 144,
   "metadata": {},
   "outputs": [],
   "source": [
    "val_acc=[]\n",
    "train_acc=[]\n",
    "deps=range(1, 100)\n",
    "for j in deps:\n",
    "    dtree_model = DecisionTreeClassifier(max_depth=j).fit(X_train, Y_train)\n",
    "    train_acc.append(accuracy(dtree_model.predict(X_train), Y_train))\n",
    "    val_acc.append(accuracy(dtree_model.predict(X_val), Y_val))"
   ]
  },
  {
   "cell_type": "code",
   "execution_count": 145,
   "metadata": {},
   "outputs": [
    {
     "data": {
      "image/png": "[encoded data removed]",
      "text/plain": [
       "<Figure size 432x288 with 1 Axes>"
      ]
     },
     "metadata": {
      "needs_background": "light"
     },
     "output_type": "display_data"
    }
   ],
   "source": [
    "plt.plot(deps, val_acc, label='validation accuracy')\n",
    "plt.plot(deps, train_acc, label='training accuracy')\n",
    "plt.scatter(deps[np.argmax(val_acc)], max(val_acc), color='r')\n",
    "plt.xlabel('maximal depth')\n",
    "plt.ylabel('validation accuracy')\n",
    "plt.legend();"
   ]
  },
  {
   "cell_type": "code",
   "execution_count": 58,
   "metadata": {},
   "outputs": [
    {
     "name": "stdout",
     "output_type": "stream",
     "text": [
      "0.35135135135135137\n"
     ]
    }
   ],
   "source": [
    "dtree_model = DecisionTreeClassifier(max_depth=deps[np.argmax(val_acc)]).fit(X_train, Y_train)\n",
    "val_accuracy=accuracy(dtree_model.predict(X_val), Y_val)\n",
    "print(val_accuracy)"
   ]
  },
  {
   "cell_type": "code",
   "execution_count": 90,
   "metadata": {},
   "outputs": [
    {
     "data": {
      "text/plain": [
       "28"
      ]
     },
     "execution_count": 90,
     "metadata": {},
     "output_type": "execute_result"
    }
   ],
   "source": [
    "deps[np.argmax(val_acc)]"
   ]
  },
  {
   "cell_type": "markdown",
   "metadata": {},
   "source": [
    "### With chosen max depth value 28, the validation accuracy of the classification tree is 0.35135135135135137."
   ]
  },
  {
   "cell_type": "markdown",
   "metadata": {},
   "source": [
    "## Random Forest"
   ]
  },
  {
   "cell_type": "code",
   "execution_count": 91,
   "metadata": {},
   "outputs": [],
   "source": [
    "from sklearn.ensemble import RandomForestClassifier"
   ]
  },
  {
   "cell_type": "code",
   "execution_count": 93,
   "metadata": {},
   "outputs": [],
   "source": [
    "forest_model = RandomForestClassifier(n_estimators=100, \n",
    "                                    bootstrap = True, \n",
    "                                    max_features = 'sqrt', \n",
    "                                    max_depth=None)\n",
    "selector = RFECV(forest_model, step=1, cv=5).fit(X, y)\n",
    "rank=selector.ranking_"
   ]
  },
  {
   "cell_type": "code",
   "execution_count": 94,
   "metadata": {},
   "outputs": [],
   "source": [
    "val_acc=[]\n",
    "deps=range(1,25)\n",
    "fets=range(1, max(rank)+1)\n",
    "val_acc=[[0 for i in range(0, len(deps))] for j in range(0, len(fets))]\n",
    "\n",
    "for i in range(0,len(fets)):\n",
    "    n=fets[i]\n",
    "    X_r=X[X.columns[rank<=n]]\n",
    "    for j in range(0,len(deps)):\n",
    "        forest_model = RandomForestClassifier(n_estimators=100, \n",
    "                                                      bootstrap = True, \n",
    "                                                      max_features = 'sqrt', \n",
    "                                                      max_depth=deps[j])\n",
    "\n",
    "        val_acc[i][j] = np.mean(cross_val_score(forest_model, X_r, y, cv=5))"
   ]
  },
  {
   "cell_type": "code",
   "execution_count": 95,
   "metadata": {},
   "outputs": [
    {
     "data": {
      "text/plain": [
       "0.36643192045768586"
      ]
     },
     "execution_count": 95,
     "metadata": {},
     "output_type": "execute_result"
    }
   ],
   "source": [
    "val_mat = np.matrix(val_acc)\n",
    "a,b=np.unravel_index(val_mat.argmax(), val_mat.shape)\n",
    "val_mat[a,b]"
   ]
  },
  {
   "cell_type": "code",
   "execution_count": 96,
   "metadata": {},
   "outputs": [],
   "source": [
    "n_opt=fets[a]\n",
    "rf_dep=deps[b]"
   ]
  },
  {
   "cell_type": "code",
   "execution_count": 97,
   "metadata": {},
   "outputs": [
    {
     "data": {
      "image/png": "[encoded data removed]",
      "text/plain": [
       "<Figure size 576x360 with 1 Axes>"
      ]
     },
     "metadata": {
      "needs_background": "light"
     },
     "output_type": "display_data"
    }
   ],
   "source": [
    "plt.figure(figsize=(8,5))\n",
    "#plt.plot(deps, train_acc, label='train accuracy')\n",
    "for i in range(0,len(fets)):\n",
    "    n=fets[i]\n",
    "    plt.plot(deps, val_acc[i], label='validation accuracy with features of top ranked '+str(n))\n",
    "plt.scatter(rf_dep, val_mat[a,b], color='r')\n",
    "plt.xticks(deps)\n",
    "plt.legend();"
   ]
  },
  {
   "cell_type": "code",
   "execution_count": 101,
   "metadata": {},
   "outputs": [
    {
     "data": {
      "text/plain": [
       "23"
      ]
     },
     "execution_count": 101,
     "metadata": {},
     "output_type": "execute_result"
    }
   ],
   "source": [
    "rf_dep"
   ]
  },
  {
   "cell_type": "code",
   "execution_count": 100,
   "metadata": {},
   "outputs": [
    {
     "name": "stdout",
     "output_type": "stream",
     "text": [
      "1.0 0.40878378378378377\n"
     ]
    }
   ],
   "source": [
    "columns=X.columns[rank<=n_opt]\n",
    "X_train_rf=X_train[columns]\n",
    "X_val_rf=X_val[columns]\n",
    "\n",
    "forest_model = RandomForestClassifier(n_estimators=100, \n",
    "                                      bootstrap = True, \n",
    "                                      max_features = 'sqrt', \n",
    "                                      max_depth=rf_dep).fit(X_train_rf, Y_train)\n",
    "training_accuracy = accuracy(forest_model.predict(X_train_rf), Y_train)\n",
    "val_accuracy = accuracy(forest_model.predict(X_val_rf), Y_val)\n",
    "print(training_accuracy, val_accuracy)"
   ]
  },
  {
   "cell_type": "markdown",
   "metadata": {},
   "source": [
    "### With all features selected and maximal depth 23, the validation accuracy of our final random forest is 0.40878378378378377."
   ]
  },
  {
   "cell_type": "markdown",
   "metadata": {},
   "source": [
    "## Support Vector Machine"
   ]
  },
  {
   "cell_type": "code",
   "execution_count": 104,
   "metadata": {},
   "outputs": [],
   "source": [
    "from sklearn.svm import SVC"
   ]
  },
  {
   "cell_type": "code",
   "execution_count": 113,
   "metadata": {},
   "outputs": [
    {
     "name": "stdout",
     "output_type": "stream",
     "text": [
      "1.0\n"
     ]
    }
   ],
   "source": [
    "svc_model = SVC(C=1.0, tol=2).fit(X_train, Y_train)\n",
    "training_accuracy = accuracy(svc_model.predict(X_train), Y_train)\n",
    "print(training_accuracy)"
   ]
  },
  {
   "cell_type": "code",
   "execution_count": 139,
   "metadata": {},
   "outputs": [],
   "source": [
    "tols= range(1, 10)\n",
    "val_svm=[]\n",
    "train_svm=[]\n",
    "for t in tols:\n",
    "    svc_model = SVC(C=1.0, tol=t).fit(X_train, Y_train)\n",
    "    training_accuracy = accuracy(svc_model.predict(X_train), Y_train)\n",
    "    val_accuracy = accuracy(svc_model.predict(X_val), Y_val)\n",
    "    val_svm.append(val_accuracy)\n",
    "    train_svm.append(training_accuracy)"
   ]
  },
  {
   "cell_type": "code",
   "execution_count": 140,
   "metadata": {},
   "outputs": [
    {
     "data": {
      "text/plain": [
       "2"
      ]
     },
     "execution_count": 140,
     "metadata": {},
     "output_type": "execute_result"
    }
   ],
   "source": [
    "t = tols[val_svm.index(max(val_svm))]\n",
    "t"
   ]
  },
  {
   "cell_type": "code",
   "execution_count": 141,
   "metadata": {},
   "outputs": [
    {
     "data": {
      "image/png": "[encoded data removed]",
      "text/plain": [
       "<Figure size 432x288 with 1 Axes>"
      ]
     },
     "metadata": {
      "needs_background": "light"
     },
     "output_type": "display_data"
    }
   ],
   "source": [
    "plt.plot(tols, val_svm)\n",
    "plt.scatter(t, max(val_svm), color='r')\n",
    "plt.xlabel('tolerance value')\n",
    "plt.ylabel('validation accuracy');\n",
    "\n",
    "plt.plot(tols, val_svm, label='validation accuracy')\n",
    "plt.plot(tols, train_svm, label='training accuracy')\n",
    "plt.scatter(t, max(val_svm), color='r')\n",
    "plt.xlabel('tolerance value')\n",
    "plt.ylabel('validation accuracy')\n",
    "plt.legend();"
   ]
  },
  {
   "cell_type": "code",
   "execution_count": 126,
   "metadata": {},
   "outputs": [
    {
     "name": "stdout",
     "output_type": "stream",
     "text": [
      "0.18243243243243243\n"
     ]
    }
   ],
   "source": [
    "svc_model = SVC(C=1.0, tol=t).fit(X_train, Y_train)\n",
    "training_accuracy = accuracy(svc_model.predict(X_train), Y_train)\n",
    "val_accuracy = accuracy(svc_model.predict(X_val), Y_val)\n",
    "print(val_accuracy)"
   ]
  },
  {
   "cell_type": "markdown",
   "metadata": {},
   "source": [
    "Let's also try to tune regularization parameter, C."
   ]
  },
  {
   "cell_type": "code",
   "execution_count": 137,
   "metadata": {},
   "outputs": [],
   "source": [
    "cs = np.linspace(0.1,5.1,20)\n",
    "val_svm=[]\n",
    "train_svm=[]\n",
    "for c in cs:\n",
    "    svc_model = SVC(C=c, tol=t).fit(X_train, Y_train)\n",
    "    training_accuracy = accuracy(svc_model.predict(X_train), Y_train)\n",
    "    val_accuracy = accuracy(svc_model.predict(X_val), Y_val)\n",
    "    val_svm.append(val_accuracy)\n",
    "    train_svm.append(training_accuracy)"
   ]
  },
  {
   "cell_type": "code",
   "execution_count": 138,
   "metadata": {},
   "outputs": [
    {
     "data": {
      "image/png": "[encoded data removed]",
      "text/plain": [
       "<Figure size 432x288 with 1 Axes>"
      ]
     },
     "metadata": {
      "needs_background": "light"
     },
     "output_type": "display_data"
    }
   ],
   "source": [
    "plt.plot(cs, val_svm, label='validation accuracy')\n",
    "plt.plot(cs, train_svm, label='training accuracy')\n",
    "plt.scatter(cs[np.argmax(val_svm)], max(val_svm), color='r')\n",
    "plt.xlabel('tolerance value')\n",
    "plt.ylabel('validation accuracy')\n",
    "plt.legend();"
   ]
  },
  {
   "cell_type": "markdown",
   "metadata": {},
   "source": [
    "But the result validation accuracy is still very low and doesn't improve much, so we still keep C as 1."
   ]
  },
  {
   "cell_type": "code",
   "execution_count": 136,
   "metadata": {},
   "outputs": [
    {
     "name": "stdout",
     "output_type": "stream",
     "text": [
      "0.18243243243243243\n"
     ]
    }
   ],
   "source": [
    "svc_model = SVC(C=1.0, tol=t).fit(X_train, Y_train)\n",
    "training_accuracy = accuracy(svc_model.predict(X_train), Y_train)\n",
    "val_accuracy = accuracy(svc_model.predict(X_val), Y_val)\n",
    "print(val_accuracy)"
   ]
  },
  {
   "cell_type": "markdown",
   "metadata": {},
   "source": [
    "### The validation accuracy of our SVM classifier, with C=1 and tol=2,  is 0.18243243243243243."
   ]
  },
  {
   "cell_type": "markdown",
   "metadata": {},
   "source": [
    "## Test on test data"
   ]
  },
  {
   "cell_type": "code",
   "execution_count": 16,
   "metadata": {},
   "outputs": [],
   "source": [
    "test_data=pd.read_pickle(\"transformed_data_test.pkl\")\n",
    "X_test=test_data"
   ]
  },
  {
   "cell_type": "code",
   "execution_count": 17,
   "metadata": {},
   "outputs": [
    {
     "data": {
      "text/html": [
       "<div>\n",
       "<style scoped>\n",
       "    .dataframe tbody tr th:only-of-type {\n",
       "        vertical-align: middle;\n",
       "    }\n",
       "\n",
       "    .dataframe tbody tr th {\n",
       "        vertical-align: top;\n",
       "    }\n",
       "\n",
       "    .dataframe thead th {\n",
       "        text-align: right;\n",
       "    }\n",
       "</style>\n",
       "<table border=\"1\" class=\"dataframe\">\n",
       "  <thead>\n",
       "    <tr style=\"text-align: right;\">\n",
       "      <th></th>\n",
       "      <th>size</th>\n",
       "      <th>red_avg</th>\n",
       "      <th>aspectratio</th>\n",
       "      <th>green_avg</th>\n",
       "      <th>blue_avg</th>\n",
       "      <th>red_std</th>\n",
       "      <th>green_std</th>\n",
       "      <th>blue_std</th>\n",
       "      <th>grey_std</th>\n",
       "      <th>colorful</th>\n",
       "      <th>num_blob</th>\n",
       "      <th>red_rank</th>\n",
       "      <th>green_rank</th>\n",
       "      <th>blue_rank</th>\n",
       "    </tr>\n",
       "    <tr>\n",
       "      <th>Id</th>\n",
       "      <th></th>\n",
       "      <th></th>\n",
       "      <th></th>\n",
       "      <th></th>\n",
       "      <th></th>\n",
       "      <th></th>\n",
       "      <th></th>\n",
       "      <th></th>\n",
       "      <th></th>\n",
       "      <th></th>\n",
       "      <th></th>\n",
       "      <th></th>\n",
       "      <th></th>\n",
       "      <th></th>\n",
       "    </tr>\n",
       "  </thead>\n",
       "  <tbody>\n",
       "    <tr>\n",
       "      <td>0</td>\n",
       "      <td>1620000</td>\n",
       "      <td>105.980433</td>\n",
       "      <td>0.666667</td>\n",
       "      <td>106.905494</td>\n",
       "      <td>105.590887</td>\n",
       "      <td>67.205121</td>\n",
       "      <td>65.316848</td>\n",
       "      <td>63.113690</td>\n",
       "      <td>0.256376</td>\n",
       "      <td>171.341564</td>\n",
       "      <td>88</td>\n",
       "      <td>1.000000</td>\n",
       "      <td>1.000000</td>\n",
       "      <td>1.000000</td>\n",
       "    </tr>\n",
       "    <tr>\n",
       "      <td>1</td>\n",
       "      <td>91821</td>\n",
       "      <td>144.792694</td>\n",
       "      <td>0.526971</td>\n",
       "      <td>147.593426</td>\n",
       "      <td>133.982324</td>\n",
       "      <td>79.839361</td>\n",
       "      <td>77.287288</td>\n",
       "      <td>76.796918</td>\n",
       "      <td>0.304696</td>\n",
       "      <td>159.033671</td>\n",
       "      <td>16</td>\n",
       "      <td>1.000000</td>\n",
       "      <td>1.000000</td>\n",
       "      <td>1.000000</td>\n",
       "    </tr>\n",
       "    <tr>\n",
       "      <td>2</td>\n",
       "      <td>312006</td>\n",
       "      <td>133.637670</td>\n",
       "      <td>1.171141</td>\n",
       "      <td>123.831301</td>\n",
       "      <td>118.584796</td>\n",
       "      <td>68.821922</td>\n",
       "      <td>72.801423</td>\n",
       "      <td>82.262728</td>\n",
       "      <td>0.284262</td>\n",
       "      <td>175.422400</td>\n",
       "      <td>10</td>\n",
       "      <td>1.000000</td>\n",
       "      <td>1.000000</td>\n",
       "      <td>1.000000</td>\n",
       "    </tr>\n",
       "    <tr>\n",
       "      <td>3</td>\n",
       "      <td>70308</td>\n",
       "      <td>96.696962</td>\n",
       "      <td>0.656085</td>\n",
       "      <td>83.622675</td>\n",
       "      <td>85.577701</td>\n",
       "      <td>61.854443</td>\n",
       "      <td>52.434449</td>\n",
       "      <td>48.460702</td>\n",
       "      <td>0.212077</td>\n",
       "      <td>147.802648</td>\n",
       "      <td>2</td>\n",
       "      <td>1.000000</td>\n",
       "      <td>1.000000</td>\n",
       "      <td>1.000000</td>\n",
       "    </tr>\n",
       "    <tr>\n",
       "      <td>4</td>\n",
       "      <td>244650</td>\n",
       "      <td>23.246266</td>\n",
       "      <td>1.502146</td>\n",
       "      <td>40.598455</td>\n",
       "      <td>46.887554</td>\n",
       "      <td>25.818695</td>\n",
       "      <td>28.859210</td>\n",
       "      <td>34.166635</td>\n",
       "      <td>0.111580</td>\n",
       "      <td>93.570925</td>\n",
       "      <td>1</td>\n",
       "      <td>1.000000</td>\n",
       "      <td>1.000000</td>\n",
       "      <td>1.000000</td>\n",
       "    </tr>\n",
       "    <tr>\n",
       "      <td>...</td>\n",
       "      <td>...</td>\n",
       "      <td>...</td>\n",
       "      <td>...</td>\n",
       "      <td>...</td>\n",
       "      <td>...</td>\n",
       "      <td>...</td>\n",
       "      <td>...</td>\n",
       "      <td>...</td>\n",
       "      <td>...</td>\n",
       "      <td>...</td>\n",
       "      <td>...</td>\n",
       "      <td>...</td>\n",
       "      <td>...</td>\n",
       "      <td>...</td>\n",
       "    </tr>\n",
       "    <tr>\n",
       "      <td>711</td>\n",
       "      <td>1229580</td>\n",
       "      <td>82.298175</td>\n",
       "      <td>0.624691</td>\n",
       "      <td>88.592117</td>\n",
       "      <td>138.559137</td>\n",
       "      <td>33.266301</td>\n",
       "      <td>34.144022</td>\n",
       "      <td>46.221502</td>\n",
       "      <td>0.135341</td>\n",
       "      <td>73.953556</td>\n",
       "      <td>25</td>\n",
       "      <td>1.000000</td>\n",
       "      <td>1.000000</td>\n",
       "      <td>1.000000</td>\n",
       "    </tr>\n",
       "    <tr>\n",
       "      <td>712</td>\n",
       "      <td>490032</td>\n",
       "      <td>101.633914</td>\n",
       "      <td>0.658635</td>\n",
       "      <td>128.388609</td>\n",
       "      <td>163.542010</td>\n",
       "      <td>67.142158</td>\n",
       "      <td>70.383417</td>\n",
       "      <td>65.551384</td>\n",
       "      <td>0.266364</td>\n",
       "      <td>88.947355</td>\n",
       "      <td>10</td>\n",
       "      <td>0.929878</td>\n",
       "      <td>0.929878</td>\n",
       "      <td>0.929878</td>\n",
       "    </tr>\n",
       "    <tr>\n",
       "      <td>713</td>\n",
       "      <td>185115</td>\n",
       "      <td>96.093250</td>\n",
       "      <td>0.749129</td>\n",
       "      <td>126.238344</td>\n",
       "      <td>162.929860</td>\n",
       "      <td>53.152277</td>\n",
       "      <td>59.381154</td>\n",
       "      <td>72.718032</td>\n",
       "      <td>0.229114</td>\n",
       "      <td>82.100547</td>\n",
       "      <td>6</td>\n",
       "      <td>1.000000</td>\n",
       "      <td>1.000000</td>\n",
       "      <td>1.000000</td>\n",
       "    </tr>\n",
       "    <tr>\n",
       "      <td>714</td>\n",
       "      <td>842688</td>\n",
       "      <td>86.560414</td>\n",
       "      <td>0.714514</td>\n",
       "      <td>108.045195</td>\n",
       "      <td>131.565757</td>\n",
       "      <td>43.424021</td>\n",
       "      <td>43.857459</td>\n",
       "      <td>47.717411</td>\n",
       "      <td>0.172115</td>\n",
       "      <td>57.248532</td>\n",
       "      <td>3</td>\n",
       "      <td>1.000000</td>\n",
       "      <td>1.000000</td>\n",
       "      <td>1.000000</td>\n",
       "    </tr>\n",
       "    <tr>\n",
       "      <td>715</td>\n",
       "      <td>369600</td>\n",
       "      <td>77.332102</td>\n",
       "      <td>0.407273</td>\n",
       "      <td>98.967119</td>\n",
       "      <td>112.543084</td>\n",
       "      <td>69.280936</td>\n",
       "      <td>73.196467</td>\n",
       "      <td>77.512828</td>\n",
       "      <td>0.282507</td>\n",
       "      <td>119.037506</td>\n",
       "      <td>17</td>\n",
       "      <td>1.000000</td>\n",
       "      <td>1.000000</td>\n",
       "      <td>1.000000</td>\n",
       "    </tr>\n",
       "  </tbody>\n",
       "</table>\n",
       "<p>716 rows × 14 columns</p>\n",
       "</div>"
      ],
      "text/plain": [
       "        size     red_avg  aspectratio   green_avg    blue_avg    red_std  \\\n",
       "Id                                                                         \n",
       "0    1620000  105.980433     0.666667  106.905494  105.590887  67.205121   \n",
       "1      91821  144.792694     0.526971  147.593426  133.982324  79.839361   \n",
       "2     312006  133.637670     1.171141  123.831301  118.584796  68.821922   \n",
       "3      70308   96.696962     0.656085   83.622675   85.577701  61.854443   \n",
       "4     244650   23.246266     1.502146   40.598455   46.887554  25.818695   \n",
       "..       ...         ...          ...         ...         ...        ...   \n",
       "711  1229580   82.298175     0.624691   88.592117  138.559137  33.266301   \n",
       "712   490032  101.633914     0.658635  128.388609  163.542010  67.142158   \n",
       "713   185115   96.093250     0.749129  126.238344  162.929860  53.152277   \n",
       "714   842688   86.560414     0.714514  108.045195  131.565757  43.424021   \n",
       "715   369600   77.332102     0.407273   98.967119  112.543084  69.280936   \n",
       "\n",
       "     green_std   blue_std  grey_std    colorful  num_blob  red_rank  \\\n",
       "Id                                                                    \n",
       "0    65.316848  63.113690  0.256376  171.341564        88  1.000000   \n",
       "1    77.287288  76.796918  0.304696  159.033671        16  1.000000   \n",
       "2    72.801423  82.262728  0.284262  175.422400        10  1.000000   \n",
       "3    52.434449  48.460702  0.212077  147.802648         2  1.000000   \n",
       "4    28.859210  34.166635  0.111580   93.570925         1  1.000000   \n",
       "..         ...        ...       ...         ...       ...       ...   \n",
       "711  34.144022  46.221502  0.135341   73.953556        25  1.000000   \n",
       "712  70.383417  65.551384  0.266364   88.947355        10  0.929878   \n",
       "713  59.381154  72.718032  0.229114   82.100547         6  1.000000   \n",
       "714  43.857459  47.717411  0.172115   57.248532         3  1.000000   \n",
       "715  73.196467  77.512828  0.282507  119.037506        17  1.000000   \n",
       "\n",
       "     green_rank  blue_rank  \n",
       "Id                          \n",
       "0      1.000000   1.000000  \n",
       "1      1.000000   1.000000  \n",
       "2      1.000000   1.000000  \n",
       "3      1.000000   1.000000  \n",
       "4      1.000000   1.000000  \n",
       "..          ...        ...  \n",
       "711    1.000000   1.000000  \n",
       "712    0.929878   0.929878  \n",
       "713    1.000000   1.000000  \n",
       "714    1.000000   1.000000  \n",
       "715    1.000000   1.000000  \n",
       "\n",
       "[716 rows x 14 columns]"
      ]
     },
     "execution_count": 17,
     "metadata": {},
     "output_type": "execute_result"
    }
   ],
   "source": [
    "X_test"
   ]
  },
  {
   "cell_type": "code",
   "execution_count": 18,
   "metadata": {},
   "outputs": [],
   "source": [
    "columns=X_test.columns[rank<=n_opt]\n",
    "X_test_log=X_test[columns]\n",
    "\n",
    "X_test_small=X_test_log[X_test_log['size']<300000]\n",
    "#Y_test_small=Y_test[X_test_log['size']<300000]\n",
    "\n",
    "X_test_large=X_test_log[X_test_log['size']>=300000]\n",
    "#Y_test_large=Y_test[X_test_log['size']>=300000]"
   ]
  },
  {
   "cell_type": "code",
   "execution_count": 20,
   "metadata": {},
   "outputs": [],
   "source": [
    "y_hat_small=log_model_small.predict(X_test_small)\n",
    "y_hat_small=pd.DataFrame({\n",
    "    'index':X_test_small.index,\n",
    "    'encoding':y_hat_small\n",
    "})\n",
    "\n",
    "y_hat_large=log_model_large.predict(X_test_large)\n",
    "y_hat_large=pd.DataFrame({\n",
    "    'index':X_test_large.index,\n",
    "    'encoding':y_hat_large\n",
    "})"
   ]
  },
  {
   "cell_type": "code",
   "execution_count": 21,
   "metadata": {},
   "outputs": [
    {
     "data": {
      "text/html": [
       "<div>\n",
       "<style scoped>\n",
       "    .dataframe tbody tr th:only-of-type {\n",
       "        vertical-align: middle;\n",
       "    }\n",
       "\n",
       "    .dataframe tbody tr th {\n",
       "        vertical-align: top;\n",
       "    }\n",
       "\n",
       "    .dataframe thead th {\n",
       "        text-align: right;\n",
       "    }\n",
       "</style>\n",
       "<table border=\"1\" class=\"dataframe\">\n",
       "  <thead>\n",
       "    <tr style=\"text-align: right;\">\n",
       "      <th></th>\n",
       "      <th>encoding</th>\n",
       "    </tr>\n",
       "    <tr>\n",
       "      <th>index</th>\n",
       "      <th></th>\n",
       "    </tr>\n",
       "  </thead>\n",
       "  <tbody>\n",
       "    <tr>\n",
       "      <td>0</td>\n",
       "      <td>19</td>\n",
       "    </tr>\n",
       "    <tr>\n",
       "      <td>1</td>\n",
       "      <td>12</td>\n",
       "    </tr>\n",
       "    <tr>\n",
       "      <td>2</td>\n",
       "      <td>5</td>\n",
       "    </tr>\n",
       "    <tr>\n",
       "      <td>3</td>\n",
       "      <td>12</td>\n",
       "    </tr>\n",
       "    <tr>\n",
       "      <td>4</td>\n",
       "      <td>3</td>\n",
       "    </tr>\n",
       "    <tr>\n",
       "      <td>...</td>\n",
       "      <td>...</td>\n",
       "    </tr>\n",
       "    <tr>\n",
       "      <td>711</td>\n",
       "      <td>11</td>\n",
       "    </tr>\n",
       "    <tr>\n",
       "      <td>712</td>\n",
       "      <td>11</td>\n",
       "    </tr>\n",
       "    <tr>\n",
       "      <td>713</td>\n",
       "      <td>6</td>\n",
       "    </tr>\n",
       "    <tr>\n",
       "      <td>714</td>\n",
       "      <td>11</td>\n",
       "    </tr>\n",
       "    <tr>\n",
       "      <td>715</td>\n",
       "      <td>11</td>\n",
       "    </tr>\n",
       "  </tbody>\n",
       "</table>\n",
       "<p>716 rows × 1 columns</p>\n",
       "</div>"
      ],
      "text/plain": [
       "       encoding\n",
       "index          \n",
       "0            19\n",
       "1            12\n",
       "2             5\n",
       "3            12\n",
       "4             3\n",
       "...         ...\n",
       "711          11\n",
       "712          11\n",
       "713           6\n",
       "714          11\n",
       "715          11\n",
       "\n",
       "[716 rows x 1 columns]"
      ]
     },
     "execution_count": 21,
     "metadata": {},
     "output_type": "execute_result"
    }
   ],
   "source": [
    "y_hat=pd.concat([y_hat_small, y_hat_large])\n",
    "y_hat=y_hat.sort_values(by='index').set_index(keys='index')\n",
    "y_hat"
   ]
  },
  {
   "cell_type": "code",
   "execution_count": 27,
   "metadata": {},
   "outputs": [],
   "source": [
    "y_hat.to_csv('predictions.csv', index=False, header=False)"
   ]
  },
  {
   "cell_type": "code",
   "execution_count": null,
   "metadata": {},
   "outputs": [],
   "source": []
  }
 ],
 "metadata": {
  "kernelspec": {
   "display_name": "Python 3",
   "language": "python",
   "name": "python3"
  },
  "language_info": {
   "codemirror_mode": {
    "name": "ipython",
    "version": 3
   },
   "file_extension": ".py",
   "mimetype": "text/x-python",
   "name": "python",
   "nbconvert_exporter": "python",
   "pygments_lexer": "ipython3",
   "version": "3.7.3"
  }
 },
 "nbformat": 4,
 "nbformat_minor": 2
}
