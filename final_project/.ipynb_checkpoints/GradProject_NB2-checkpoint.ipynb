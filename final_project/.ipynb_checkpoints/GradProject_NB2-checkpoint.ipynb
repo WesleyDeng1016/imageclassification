{
 "cells": [
  {
   "cell_type": "markdown",
   "metadata": {},
   "source": [
    "<h1> DS200A Computer Vision Assignment</h1>"
   ]
  },
  {
   "cell_type": "markdown",
   "metadata": {},
   "source": [
    "<h2>  Part Two: Exploratory data analysis and feature extraction. </h2>\t\n"
   ]
  },
  {
   "cell_type": "markdown",
   "metadata": {},
   "source": [
    "<h5> In this section, Compute at least 15 such image features (a method for each), including the following (NOTE: At least 10 of these must be scalar features and 2 matrix-based features): (i) image size, (ii) average of the red-channel intensity, (iii) aspectratio. This will require significant explatoratory research and data analysis. The first one is already implemented for you, and the next two are pre-specified. Additional requirements specfied in pdf. </h5>"
   ]
  },
  {
   "cell_type": "code",
   "execution_count": 3,
   "metadata": {},
   "outputs": [],
   "source": [
    "import numpy as np\n",
    "import matplotlib.pyplot as plt\n",
    "import pandas as pd\n",
    "import matplotlib\n",
    "import skimage\n",
    "from skimage import data\n",
    "from skimage import io\n",
    "from skimage import feature as skfeat\n",
    "import os"
   ]
  },
  {
   "cell_type": "code",
   "execution_count": 4,
   "metadata": {},
   "outputs": [],
   "source": [
    "types=['airplanes', 'bear', 'blimp', 'comet', 'crab', 'dog', 'dolphin', 'giraffe', 'goat', 'gorilla', 'kangaroo', 'killer-whale', 'leopards', 'llama', 'penguin',\n",
    "       'porcupine', 'teddy-bear', 'triceratops', 'unicorn', 'zebra']"
   ]
  },
  {
   "cell_type": "code",
   "execution_count": 7,
   "metadata": {},
   "outputs": [],
   "source": [
    "%run GradProject_NB1.ipynb"
   ]
  },
  {
   "cell_type": "code",
   "execution_count": 8,
   "metadata": {},
   "outputs": [
    {
     "data": {
      "text/html": [
       "<div>\n",
       "<style scoped>\n",
       "    .dataframe tbody tr th:only-of-type {\n",
       "        vertical-align: middle;\n",
       "    }\n",
       "\n",
       "    .dataframe tbody tr th {\n",
       "        vertical-align: top;\n",
       "    }\n",
       "\n",
       "    .dataframe thead th {\n",
       "        text-align: right;\n",
       "    }\n",
       "</style>\n",
       "<table border=\"1\" class=\"dataframe\">\n",
       "  <thead>\n",
       "    <tr style=\"text-align: right;\">\n",
       "      <th></th>\n",
       "      <th>Pictures</th>\n",
       "      <th>Encoding</th>\n",
       "    </tr>\n",
       "  </thead>\n",
       "  <tbody>\n",
       "    <tr>\n",
       "      <td>0</td>\n",
       "      <td>[[[255, 255, 255], [255, 255, 255], [255, 255,...</td>\n",
       "      <td>0</td>\n",
       "    </tr>\n",
       "    <tr>\n",
       "      <td>1</td>\n",
       "      <td>[[[88, 56, 17], [95, 63, 24], [101, 69, 30], [...</td>\n",
       "      <td>0</td>\n",
       "    </tr>\n",
       "    <tr>\n",
       "      <td>2</td>\n",
       "      <td>[[[255, 255, 255], [255, 255, 255], [255, 255,...</td>\n",
       "      <td>0</td>\n",
       "    </tr>\n",
       "    <tr>\n",
       "      <td>3</td>\n",
       "      <td>[[[255, 255, 255], [255, 255, 255], [255, 255,...</td>\n",
       "      <td>0</td>\n",
       "    </tr>\n",
       "    <tr>\n",
       "      <td>4</td>\n",
       "      <td>[[[255, 255, 255], [255, 255, 255], [255, 255,...</td>\n",
       "      <td>0</td>\n",
       "    </tr>\n",
       "    <tr>\n",
       "      <td>...</td>\n",
       "      <td>...</td>\n",
       "      <td>...</td>\n",
       "    </tr>\n",
       "    <tr>\n",
       "      <td>1496</td>\n",
       "      <td>[[[113, 106, 90], [105, 104, 84], [110, 107, 8...</td>\n",
       "      <td>19</td>\n",
       "    </tr>\n",
       "    <tr>\n",
       "      <td>1497</td>\n",
       "      <td>[[[36, 37, 58], [22, 24, 45], [18, 23, 42], [1...</td>\n",
       "      <td>19</td>\n",
       "    </tr>\n",
       "    <tr>\n",
       "      <td>1498</td>\n",
       "      <td>[[[224, 218, 218], [216, 210, 210], [217, 213,...</td>\n",
       "      <td>19</td>\n",
       "    </tr>\n",
       "    <tr>\n",
       "      <td>1499</td>\n",
       "      <td>[[[132, 138, 90], [137, 143, 95], [148, 151, 1...</td>\n",
       "      <td>19</td>\n",
       "    </tr>\n",
       "    <tr>\n",
       "      <td>1500</td>\n",
       "      <td>[[[165, 185, 113], [155, 174, 110], [162, 179,...</td>\n",
       "      <td>19</td>\n",
       "    </tr>\n",
       "  </tbody>\n",
       "</table>\n",
       "<p>1501 rows × 2 columns</p>\n",
       "</div>"
      ],
      "text/plain": [
       "                                               Pictures  Encoding\n",
       "0     [[[255, 255, 255], [255, 255, 255], [255, 255,...         0\n",
       "1     [[[88, 56, 17], [95, 63, 24], [101, 69, 30], [...         0\n",
       "2     [[[255, 255, 255], [255, 255, 255], [255, 255,...         0\n",
       "3     [[[255, 255, 255], [255, 255, 255], [255, 255,...         0\n",
       "4     [[[255, 255, 255], [255, 255, 255], [255, 255,...         0\n",
       "...                                                 ...       ...\n",
       "1496  [[[113, 106, 90], [105, 104, 84], [110, 107, 8...        19\n",
       "1497  [[[36, 37, 58], [22, 24, 45], [18, 23, 42], [1...        19\n",
       "1498  [[[224, 218, 218], [216, 210, 210], [217, 213,...        19\n",
       "1499  [[[132, 138, 90], [137, 143, 95], [148, 151, 1...        19\n",
       "1500  [[[165, 185, 113], [155, 174, 110], [162, 179,...        19\n",
       "\n",
       "[1501 rows x 2 columns]"
      ]
     },
     "execution_count": 8,
     "metadata": {},
     "output_type": "execute_result"
    }
   ],
   "source": [
    "starting_data"
   ]
  },
  {
   "cell_type": "code",
   "execution_count": 17,
   "metadata": {},
   "outputs": [],
   "source": [
    "#Returns the matrix with color c-channel values\n",
    "def color_matrix(image, c):\n",
    "    values = [[0 for i in range(0, len(image[0]))] for j in range(0,len(image))]\n",
    "    for i in range(0,len(image)):\n",
    "        for j in range(0,len(image[0])):\n",
    "            values[i][j] = image[i][j][c]\n",
    "    return np.matrix(values)"
   ]
  },
  {
   "cell_type": "code",
   "execution_count": 18,
   "metadata": {},
   "outputs": [],
   "source": [
    "# Returns the pixel size of the image\n",
    "def ft0(image):\n",
    "    return image.size\n",
    "\n",
    "# Returns the average of the red-channel pictures for the images\n",
    "def ft1(image):\n",
    "    reds = color_matrix(image, 0)\n",
    "    return reds.mean()\n",
    "\n",
    "#Returns the aspect ratio of the image\n",
    "def ft2(image):\n",
    "    return len(image) / len(image[0])\n",
    "\n",
    "#Returns the average of the green-channel pictures for the images\n",
    "def ft3(image):\n",
    "    greens = color_matrix(image, 1)\n",
    "    return greens.mean()\n",
    "\n",
    "#Returns the average of the blue-channel pictures for the images\n",
    "def ft4(image):\n",
    "    blues = color_matrix(image, 2)\n",
    "    return blues.mean()\n",
    "\n",
    "# Returns the standard deviation of the red-channel pictures for the images\n",
    "def ft5(image):\n",
    "    reds = color_matrix(image, 0)\n",
    "    return reds.std()\n",
    "\n",
    "#Returns the standard deviation of the green-channel pictures for the images\n",
    "def ft6(image):\n",
    "    greens = color_matrix(image, 1)\n",
    "    return greens.std()\n",
    "\n",
    "#Returns the standard deviation of the blue-channel pictures for the images\n",
    "def ft7(image):\n",
    "    blues = color_matrix(image, 2)\n",
    "    return blues.std()\n",
    "\n",
    "#Returns the standard deviation of the grey-channel pictures for the grey_scaled images\n",
    "def ft8(image_g):\n",
    "    greys = np.matrix(image_g)\n",
    "    return greys.std()\n",
    "\n",
    "# Returns colorfulness of an image\n",
    "# https://www.pyimagesearch.com/2017/06/05/computing-image-colorfulness-with-opencv-and-python/\n",
    "def ft9(image):\n",
    "    (B, G, R) = image[:, :, 0], image[:, :, 1], image[:, :, 2]\n",
    " \n",
    "    # compute rg = R - G\n",
    "    rg = np.absolute(R - G)\n",
    " \n",
    "    # compute yb = 0.5 * (R + G) - B\n",
    "    yb = np.absolute(0.5 * (R + G) - B)\n",
    " \n",
    "    # compute the mean and standard deviation of both `rg` and `yb`\n",
    "    (rbMean, rbStd) = (np.mean(rg), np.std(rg))\n",
    "    (ybMean, ybStd) = (np.mean(yb), np.std(yb))\n",
    " \n",
    "    # combine the mean and standard deviations\n",
    "    stdRoot = np.sqrt((rbStd ** 2) + (ybStd ** 2))\n",
    "    meanRoot = np.sqrt((rbMean ** 2) + (ybMean ** 2))\n",
    " \n",
    "    # derive the \"colorfulness\" metric and return it\n",
    "    return stdRoot + (0.3 * meanRoot)"
   ]
  },
  {
   "cell_type": "code",
   "execution_count": 60,
   "metadata": {},
   "outputs": [],
   "source": [
    "def read_organize_data_g(file_path):\n",
    "    #Fill this function out, should return a dataframe with picture object, and correct encoding\n",
    "    \n",
    "    pics=[]\n",
    "    enc=[]\n",
    "    for i in range(0,len(types)):\n",
    "        typedir = os.path.join(file_path, types[i])\n",
    "        for file in os.listdir(typedir):\n",
    "            filename=os.path.join(typedir, file)\n",
    "            pics.append(io.imread(filename, as_grey=True))\n",
    "            enc.append(i)\n",
    "    df=pd.DataFrame({\n",
    "        'Pictures': pics,\n",
    "        'Encoding': enc\n",
    "    })\n",
    "    \n",
    "    return df"
   ]
  },
  {
   "cell_type": "code",
   "execution_count": 63,
   "metadata": {},
   "outputs": [
    {
     "name": "stderr",
     "output_type": "stream",
     "text": [
      "//anaconda3/lib/python3.7/site-packages/skimage/io/_io.py:48: UserWarning: `as_grey` has been deprecated in favor of `as_gray`\n",
      "  warn('`as_grey` has been deprecated in favor of `as_gray`')\n"
     ]
    },
    {
     "data": {
      "text/html": [
       "<div>\n",
       "<style scoped>\n",
       "    .dataframe tbody tr th:only-of-type {\n",
       "        vertical-align: middle;\n",
       "    }\n",
       "\n",
       "    .dataframe tbody tr th {\n",
       "        vertical-align: top;\n",
       "    }\n",
       "\n",
       "    .dataframe thead th {\n",
       "        text-align: right;\n",
       "    }\n",
       "</style>\n",
       "<table border=\"1\" class=\"dataframe\">\n",
       "  <thead>\n",
       "    <tr style=\"text-align: right;\">\n",
       "      <th></th>\n",
       "      <th>Pictures</th>\n",
       "      <th>Encoding</th>\n",
       "    </tr>\n",
       "  </thead>\n",
       "  <tbody>\n",
       "    <tr>\n",
       "      <td>0</td>\n",
       "      <td>[[1.0, 1.0, 1.0, 1.0, 1.0, 1.0, 1.0, 1.0, 1.0,...</td>\n",
       "      <td>0</td>\n",
       "    </tr>\n",
       "    <tr>\n",
       "      <td>1</td>\n",
       "      <td>[[0.23524745098039215, 0.26269843137254906, 0....</td>\n",
       "      <td>0</td>\n",
       "    </tr>\n",
       "    <tr>\n",
       "      <td>2</td>\n",
       "      <td>[[1.0, 1.0, 1.0, 1.0, 1.0, 1.0, 1.0, 1.0, 1.0,...</td>\n",
       "      <td>0</td>\n",
       "    </tr>\n",
       "    <tr>\n",
       "      <td>3</td>\n",
       "      <td>[[1.0, 1.0, 1.0, 1.0, 1.0, 1.0, 1.0, 1.0, 1.0,...</td>\n",
       "      <td>0</td>\n",
       "    </tr>\n",
       "    <tr>\n",
       "      <td>4</td>\n",
       "      <td>[[1.0, 1.0, 1.0, 1.0, 1.0, 1.0, 1.0, 1.0, 1.0,...</td>\n",
       "      <td>0</td>\n",
       "    </tr>\n",
       "    <tr>\n",
       "      <td>...</td>\n",
       "      <td>...</td>\n",
       "      <td>...</td>\n",
       "    </tr>\n",
       "    <tr>\n",
       "      <td>1496</td>\n",
       "      <td>[[0.41699568627450984, 0.40302156862745103, 0....</td>\n",
       "      <td>19</td>\n",
       "    </tr>\n",
       "    <tr>\n",
       "      <td>1497</td>\n",
       "      <td>[[0.15020235294117645, 0.09838862745098038, 0....</td>\n",
       "      <td>19</td>\n",
       "    </tr>\n",
       "    <tr>\n",
       "      <td>1498</td>\n",
       "      <td>[[0.8599019607843137, 0.8285294117647058, 0.83...</td>\n",
       "      <td>19</td>\n",
       "    </tr>\n",
       "    <tr>\n",
       "      <td>1499</td>\n",
       "      <td>[[0.522604705882353, 0.5422125490196079, 0.576...</td>\n",
       "      <td>19</td>\n",
       "    </tr>\n",
       "    <tr>\n",
       "      <td>1500</td>\n",
       "      <td>[[0.6884658823529413, 0.6484239215686274, 0.67...</td>\n",
       "      <td>19</td>\n",
       "    </tr>\n",
       "  </tbody>\n",
       "</table>\n",
       "<p>1501 rows × 2 columns</p>\n",
       "</div>"
      ],
      "text/plain": [
       "                                               Pictures  Encoding\n",
       "0     [[1.0, 1.0, 1.0, 1.0, 1.0, 1.0, 1.0, 1.0, 1.0,...         0\n",
       "1     [[0.23524745098039215, 0.26269843137254906, 0....         0\n",
       "2     [[1.0, 1.0, 1.0, 1.0, 1.0, 1.0, 1.0, 1.0, 1.0,...         0\n",
       "3     [[1.0, 1.0, 1.0, 1.0, 1.0, 1.0, 1.0, 1.0, 1.0,...         0\n",
       "4     [[1.0, 1.0, 1.0, 1.0, 1.0, 1.0, 1.0, 1.0, 1.0,...         0\n",
       "...                                                 ...       ...\n",
       "1496  [[0.41699568627450984, 0.40302156862745103, 0....        19\n",
       "1497  [[0.15020235294117645, 0.09838862745098038, 0....        19\n",
       "1498  [[0.8599019607843137, 0.8285294117647058, 0.83...        19\n",
       "1499  [[0.522604705882353, 0.5422125490196079, 0.576...        19\n",
       "1500  [[0.6884658823529413, 0.6484239215686274, 0.67...        19\n",
       "\n",
       "[1501 rows x 2 columns]"
      ]
     },
     "execution_count": 63,
     "metadata": {},
     "output_type": "execute_result"
    }
   ],
   "source": [
    "starting_data_g = read_organize_data_g(\"/Users/xuwencc/Downloads/final_project/20_categories_training/20_categories_training\")\n",
    "starting_data_g"
   ]
  },
  {
   "cell_type": "code",
   "execution_count": 16,
   "metadata": {},
   "outputs": [
    {
     "data": {
      "text/plain": [
       "111.7537975171563"
      ]
     },
     "execution_count": 16,
     "metadata": {},
     "output_type": "execute_result"
    }
   ],
   "source": [
    "samples=starting_data['Pictures'][0]\n",
    "ft4(samples)"
   ]
  },
  {
   "cell_type": "markdown",
   "metadata": {},
   "source": [
    " We expect all external sources sited, and significant indication of EDA. "
   ]
  },
  {
   "cell_type": "markdown",
   "metadata": {},
   "source": [
    "<h4> Graphs </h4>"
   ]
  },
  {
   "cell_type": "code",
   "execution_count": null,
   "metadata": {
    "collapsed": true
   },
   "outputs": [],
   "source": []
  },
  {
   "cell_type": "markdown",
   "metadata": {},
   "source": [
    "<h4> Sources </h4>"
   ]
  },
  {
   "cell_type": "code",
   "execution_count": null,
   "metadata": {
    "collapsed": true
   },
   "outputs": [],
   "source": []
  },
  {
   "cell_type": "markdown",
   "metadata": {},
   "source": [
    "<h4> DataFrame Creation </h4>"
   ]
  },
  {
   "cell_type": "code",
   "execution_count": 2,
   "metadata": {
    "collapsed": true
   },
   "outputs": [],
   "source": [
    "def feature_frame(df):\n",
    "    \n",
    "    df=pd.DataFrame({\n",
    "        'size': starting_data['Pictures'].apply(ft0),\n",
    "        'red_avg': starting_data['Pictures'].apply(ft1),\n",
    "        'aspectratio': starting_data['Pictures'].apply(ft2),\n",
    "        'green_avg': starting_data['Pictures'].apply(ft3),\n",
    "        'blue_avg': starting_data['Pictures'].apply(ft4),\n",
    "        'grey_std': starting_data_g['Pictures'].apply(ft8)\n",
    "    })\n",
    "    return df\n",
    "    #Returns data-frame with all the features now inside, and calculated\n"
   ]
  },
  {
   "cell_type": "code",
   "execution_count": 3,
   "metadata": {},
   "outputs": [
    {
     "ename": "NameError",
     "evalue": "name 'starting_data' is not defined",
     "output_type": "error",
     "traceback": [
      "\u001b[1;31m---------------------------------------------------------------------------\u001b[0m",
      "\u001b[1;31mNameError\u001b[0m                                 Traceback (most recent call last)",
      "\u001b[1;32m<ipython-input-3-8b1b5be4e99b>\u001b[0m in \u001b[0;36m<module>\u001b[1;34m()\u001b[0m\n\u001b[1;32m----> 1\u001b[1;33m \u001b[0mfeature_frame\u001b[0m\u001b[1;33m(\u001b[0m\u001b[0mstarting_data\u001b[0m\u001b[1;33m)\u001b[0m\u001b[1;33m\u001b[0m\u001b[0m\n\u001b[0m",
      "\u001b[1;31mNameError\u001b[0m: name 'starting_data' is not defined"
     ]
    }
   ],
   "source": [
    "feature_frame(data_from_nb1)"
   ]
  },
  {
   "cell_type": "code",
   "execution_count": null,
   "metadata": {
    "collapsed": true
   },
   "outputs": [],
   "source": []
  }
 ],
 "metadata": {
  "kernelspec": {
   "display_name": "Python 3",
   "language": "python",
   "name": "python3"
  },
  "language_info": {
   "codemirror_mode": {
    "name": "ipython",
    "version": 3
   },
   "file_extension": ".py",
   "mimetype": "text/x-python",
   "name": "python",
   "nbconvert_exporter": "python",
   "pygments_lexer": "ipython3",
   "version": "3.7.3"
  }
 },
 "nbformat": 4,
 "nbformat_minor": 2
}
